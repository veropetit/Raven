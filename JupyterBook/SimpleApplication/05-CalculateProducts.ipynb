{
 "cells": [
  {
   "cell_type": "markdown",
   "metadata": {},
   "source": [
    "# Calculate the odds-ratios, the credible regions, and best fits"
   ]
  },
  {
   "cell_type": "markdown",
   "metadata": {},
   "source": [
    "In this notebook, we will use the files computed in the previous notebook to extract high-level products, such as the odds-ratios, the credible regions for parameter estimations, and produce plots of various best-fitting parameters. "
   ]
  },
  {
   "cell_type": "markdown",
   "metadata": {},
   "source": [
    "First we will need the following packages:"
   ]
  },
  {
   "cell_type": "code",
   "execution_count": 1,
   "metadata": {
    "tags": [
     "hide-cell"
    ]
   },
   "outputs": [],
   "source": [
    "import pyRaven as rav\n",
    "import specpolFlow as pol\n",
    "import numpy as np\n",
    "import matplotlib.pyplot as plt\n",
    "\n",
    "import pandas as pd"
   ]
  },
  {
   "cell_type": "markdown",
   "metadata": {},
   "source": [
    "## Calculation of the odds ratios"
   ]
  },
  {
   "cell_type": "markdown",
   "metadata": {},
   "source": [
    "In order to compute the odds ratios, we .."
   ]
  },
  {
   "cell_type": "code",
   "execution_count": 2,
   "metadata": {},
   "outputs": [
    {
     "name": "stdout",
     "output_type": "stream",
     "text": [
      "(array([198.22318866, 187.13388131, 215.98214083]), array([158.06420416, 192.58882868, 220.4780631 ]))\n",
      "(array([2451.93838643, 2349.11141437, 2429.04473382]), array([2472.14587334, 2346.14982172, 2428.90376112]))\n",
      "Max of lnP is: 7195.115899889081\n",
      "7201.936759106653\n"
     ]
    }
   ],
   "source": [
    "data = rav.data.read_packet('ExampleOutput/01-DataSetup/ExamplePacket.h5')\n",
    "\n",
    "print(data.cutfit.get_chi2_M0())\n",
    "print(data.cutfit.get_globalLH_M0())\n",
    "\n",
    "lnP = rav.BayesObjects.read_lnP_mar('ExampleOutput/04-CalculateProbabilities/lnpost_ODDS_mar_wprior_V.h5')\n",
    "\n",
    "print(lnP.get_globalLH())\n"
   ]
  },
  {
   "cell_type": "code",
   "execution_count": 3,
   "metadata": {},
   "outputs": [
    {
     "name": "stdout",
     "output_type": "stream",
     "text": [
      "3\n",
      "\n",
      "\n",
      "\n",
      "0\n",
      "\n",
      "ExampleOutput/04-CalculateProbabilities/lnpost_ODDS_mar_wprior_V_obs0.h5\n",
      "Max of lnP is: 2440.2788415205478\n",
      "2447.9201250170263\n",
      "ExampleOutput/04-CalculateProbabilities/lnpost_ODDS_mar_flatprior_V_obs0.h5\n",
      "Max of lnP is: 2434.2409599597518\n",
      "2442.5913584806294\n",
      "ExampleOutput/04-CalculateProbabilities/lnpost_ODDS_mar_wprior_N1_obs0.h5\n",
      "Max of lnP is: 2460.4863284266235\n",
      "2468.113095462987\n",
      "ExampleOutput/04-CalculateProbabilities/lnpost_ODDS_mar_flatprior_N1_obs0.h5\n",
      "Max of lnP is: 2454.340768423744\n",
      "2462.7697608356093\n",
      "\n",
      "1\n",
      "\n",
      "ExampleOutput/04-CalculateProbabilities/lnpost_ODDS_mar_wprior_V_obs1.h5\n",
      "Max of lnP is: 2337.451869458176\n",
      "2345.5607558344163\n",
      "ExampleOutput/04-CalculateProbabilities/lnpost_ODDS_mar_flatprior_V_obs1.h5\n",
      "Max of lnP is: 2331.960757759921\n",
      "2340.6572110063607\n",
      "ExampleOutput/04-CalculateProbabilities/lnpost_ODDS_mar_wprior_N1_obs1.h5\n",
      "Max of lnP is: 2334.490276808626\n",
      "2342.310989798699\n",
      "ExampleOutput/04-CalculateProbabilities/lnpost_ODDS_mar_flatprior_N1_obs1.h5\n",
      "Max of lnP is: 2328.4311271781035\n",
      "2337.1603563812255\n",
      "\n",
      "2\n",
      "\n",
      "ExampleOutput/04-CalculateProbabilities/lnpost_ODDS_mar_wprior_V_obs2.h5\n",
      "Max of lnP is: 2419.106870006048\n",
      "2426.894132676783\n",
      "ExampleOutput/04-CalculateProbabilities/lnpost_ODDS_mar_flatprior_V_obs2.h5\n",
      "Max of lnP is: 2414.672444526405\n",
      "2422.455329940497\n",
      "ExampleOutput/04-CalculateProbabilities/lnpost_ODDS_mar_wprior_N1_obs2.h5\n",
      "Max of lnP is: 2417.244216210935\n",
      "2425.2671726678836\n",
      "ExampleOutput/04-CalculateProbabilities/lnpost_ODDS_mar_flatprior_N1_obs2.h5\n",
      "Max of lnP is: 2411.663314336541\n",
      "2420.2207243831567\n",
      "\n",
      "\n",
      "Max of lnP is: 7195.115899889081\n",
      "Max of lnP is: 7177.956949523714\n",
      "Max of lnP is: 7212.220821446184\n",
      "Max of lnP is: 7194.243460196043\n",
      "[{'Obs': 'Observation 0', 'V ln(GLH_M0)': 2451.9383864290285, 'N1 ln(GLH_M0)': 2472.145873335104, 'V ln(GLH_M1)': 2447.9201250170263, 'N1 ln(GLH_M1)': 2468.113095462987, 'log10 Odds V': 1.745108758077314, 'log10 Odds N1': 1.7514131766019918}, {'Obs': 'Observation 1', 'V ln(GLH_M0)': 2349.111414366657, 'N1 ln(GLH_M0)': 2346.1498217171065, 'V ln(GLH_M1)': 2345.5607558344163, 'N1 ln(GLH_M1)': 2342.310989798699, 'log10 Odds V': 1.5420314076747503, 'log10 Odds N1': 1.6671835191183744}, {'Obs': 'Observation 2', 'V ln(GLH_M0)': 2429.0447338188387, 'N1 ln(GLH_M0)': 2428.9037611194162, 'V ln(GLH_M1)': 2426.894132676783, 'N1 ln(GLH_M1)': 2425.2671726678836, 'log10 Odds V': 0.9339942087695874, 'log10 Odds N1': 1.5793502974536944}, {'Obs': 'Combined', 'V ln(GLH_M0)': 7230.094534614524, 'N1 ln(GLH_M0)': 7247.199456171627, 'V ln(GLH_M1)': 7201.936759106653, 'N1 ln(GLH_M1)': 7218.868611256824, 'log10 Odds V': 12.22876652573874, 'log10 Odds N1': 12.30392961415596}]\n"
     ]
    },
    {
     "data": {
      "text/html": [
       "<div>\n",
       "<style scoped>\n",
       "    .dataframe tbody tr th:only-of-type {\n",
       "        vertical-align: middle;\n",
       "    }\n",
       "\n",
       "    .dataframe tbody tr th {\n",
       "        vertical-align: top;\n",
       "    }\n",
       "\n",
       "    .dataframe thead th {\n",
       "        text-align: right;\n",
       "    }\n",
       "</style>\n",
       "<table border=\"1\" class=\"dataframe\">\n",
       "  <thead>\n",
       "    <tr style=\"text-align: right;\">\n",
       "      <th></th>\n",
       "      <th>Obs</th>\n",
       "      <th>V ln(GLH_M0)</th>\n",
       "      <th>N1 ln(GLH_M0)</th>\n",
       "      <th>V ln(GLH_M1)</th>\n",
       "      <th>N1 ln(GLH_M1)</th>\n",
       "      <th>log10 Odds V</th>\n",
       "      <th>log10 Odds N1</th>\n",
       "    </tr>\n",
       "  </thead>\n",
       "  <tbody>\n",
       "    <tr>\n",
       "      <th>0</th>\n",
       "      <td>Observation 0</td>\n",
       "      <td>2451.938386</td>\n",
       "      <td>2472.145873</td>\n",
       "      <td>2447.920125</td>\n",
       "      <td>2468.113095</td>\n",
       "      <td>1.745109</td>\n",
       "      <td>1.751413</td>\n",
       "    </tr>\n",
       "    <tr>\n",
       "      <th>1</th>\n",
       "      <td>Observation 1</td>\n",
       "      <td>2349.111414</td>\n",
       "      <td>2346.149822</td>\n",
       "      <td>2345.560756</td>\n",
       "      <td>2342.310990</td>\n",
       "      <td>1.542031</td>\n",
       "      <td>1.667184</td>\n",
       "    </tr>\n",
       "    <tr>\n",
       "      <th>2</th>\n",
       "      <td>Observation 2</td>\n",
       "      <td>2429.044734</td>\n",
       "      <td>2428.903761</td>\n",
       "      <td>2426.894133</td>\n",
       "      <td>2425.267173</td>\n",
       "      <td>0.933994</td>\n",
       "      <td>1.579350</td>\n",
       "    </tr>\n",
       "    <tr>\n",
       "      <th>3</th>\n",
       "      <td>Combined</td>\n",
       "      <td>7230.094535</td>\n",
       "      <td>7247.199456</td>\n",
       "      <td>7201.936759</td>\n",
       "      <td>7218.868611</td>\n",
       "      <td>12.228767</td>\n",
       "      <td>12.303930</td>\n",
       "    </tr>\n",
       "  </tbody>\n",
       "</table>\n",
       "</div>"
      ],
      "text/plain": [
       "             Obs  V ln(GLH_M0)  N1 ln(GLH_M0)  V ln(GLH_M1)  N1 ln(GLH_M1)  \\\n",
       "0  Observation 0   2451.938386    2472.145873   2447.920125    2468.113095   \n",
       "1  Observation 1   2349.111414    2346.149822   2345.560756    2342.310990   \n",
       "2  Observation 2   2429.044734    2428.903761   2426.894133    2425.267173   \n",
       "3       Combined   7230.094535    7247.199456   7201.936759    7218.868611   \n",
       "\n",
       "   log10 Odds V  log10 Odds N1  \n",
       "0      1.745109       1.751413  \n",
       "1      1.542031       1.667184  \n",
       "2      0.933994       1.579350  \n",
       "3     12.228767      12.303930  "
      ]
     },
     "execution_count": 3,
     "metadata": {},
     "output_type": "execute_result"
    }
   ],
   "source": [
    "toto, toto2 = rav.BayesObjects.get_all_odds(data.cutfit,folder_path='ExampleOutput/04-CalculateProbabilities')\n",
    "print(toto)\n",
    "\n",
    "df = pd.DataFrame(toto)\n",
    "df"
   ]
  },
  {
   "cell_type": "code",
   "execution_count": 4,
   "metadata": {},
   "outputs": [
    {
     "data": {
      "text/html": [
       "<div>\n",
       "<style scoped>\n",
       "    .dataframe tbody tr th:only-of-type {\n",
       "        vertical-align: middle;\n",
       "    }\n",
       "\n",
       "    .dataframe tbody tr th {\n",
       "        vertical-align: top;\n",
       "    }\n",
       "\n",
       "    .dataframe thead th {\n",
       "        text-align: right;\n",
       "    }\n",
       "</style>\n",
       "<table border=\"1\" class=\"dataframe\">\n",
       "  <thead>\n",
       "    <tr style=\"text-align: right;\">\n",
       "      <th></th>\n",
       "      <th>Obs</th>\n",
       "      <th>V ln(GLH_M0)</th>\n",
       "      <th>N1 ln(GLH_M0)</th>\n",
       "      <th>V ln(GLH_M1)</th>\n",
       "      <th>N1 ln(GLH_M1)</th>\n",
       "      <th>log10 Odds V</th>\n",
       "      <th>log10 Odds N1</th>\n",
       "    </tr>\n",
       "  </thead>\n",
       "  <tbody>\n",
       "    <tr>\n",
       "      <th>0</th>\n",
       "      <td>Observation 0</td>\n",
       "      <td>2451.938386</td>\n",
       "      <td>2472.145873</td>\n",
       "      <td>2442.591358</td>\n",
       "      <td>2462.769761</td>\n",
       "      <td>4.059363</td>\n",
       "      <td>4.071994</td>\n",
       "    </tr>\n",
       "    <tr>\n",
       "      <th>1</th>\n",
       "      <td>Observation 1</td>\n",
       "      <td>2349.111414</td>\n",
       "      <td>2346.149822</td>\n",
       "      <td>2340.657211</td>\n",
       "      <td>2337.160356</td>\n",
       "      <td>3.671614</td>\n",
       "      <td>3.904075</td>\n",
       "    </tr>\n",
       "    <tr>\n",
       "      <th>2</th>\n",
       "      <td>Observation 2</td>\n",
       "      <td>2429.044734</td>\n",
       "      <td>2428.903761</td>\n",
       "      <td>2422.455330</td>\n",
       "      <td>2420.220724</td>\n",
       "      <td>2.861742</td>\n",
       "      <td>3.770995</td>\n",
       "    </tr>\n",
       "    <tr>\n",
       "      <th>3</th>\n",
       "      <td>Combined</td>\n",
       "      <td>7230.094535</td>\n",
       "      <td>7247.199456</td>\n",
       "      <td>7185.610715</td>\n",
       "      <td>7201.891642</td>\n",
       "      <td>19.319078</td>\n",
       "      <td>19.676934</td>\n",
       "    </tr>\n",
       "  </tbody>\n",
       "</table>\n",
       "</div>"
      ],
      "text/plain": [
       "             Obs  V ln(GLH_M0)  N1 ln(GLH_M0)  V ln(GLH_M1)  N1 ln(GLH_M1)  \\\n",
       "0  Observation 0   2451.938386    2472.145873   2442.591358    2462.769761   \n",
       "1  Observation 1   2349.111414    2346.149822   2340.657211    2337.160356   \n",
       "2  Observation 2   2429.044734    2428.903761   2422.455330    2420.220724   \n",
       "3       Combined   7230.094535    7247.199456   7185.610715    7201.891642   \n",
       "\n",
       "   log10 Odds V  log10 Odds N1  \n",
       "0      4.059363       4.071994  \n",
       "1      3.671614       3.904075  \n",
       "2      2.861742       3.770995  \n",
       "3     19.319078      19.676934  "
      ]
     },
     "execution_count": 4,
     "metadata": {},
     "output_type": "execute_result"
    }
   ],
   "source": [
    "df2 = pd.DataFrame(toto2)\n",
    "df2"
   ]
  },
  {
   "cell_type": "code",
   "execution_count": null,
   "metadata": {},
   "outputs": [],
   "source": []
  }
 ],
 "metadata": {
  "kernelspec": {
   "display_name": "py39",
   "language": "python",
   "name": "python3"
  },
  "language_info": {
   "codemirror_mode": {
    "name": "ipython",
    "version": 3
   },
   "file_extension": ".py",
   "mimetype": "text/x-python",
   "name": "python",
   "nbconvert_exporter": "python",
   "pygments_lexer": "ipython3",
   "version": "3.9.18"
  }
 },
 "nbformat": 4,
 "nbformat_minor": 2
}
