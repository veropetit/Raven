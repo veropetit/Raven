{
 "cells": [
  {
   "cell_type": "markdown",
   "metadata": {},
   "source": [
    "# Calculate probabilites from the chi2 files"
   ]
  },
  {
   "cell_type": "markdown",
   "metadata": {},
   "source": [
    "In this notebook, we explain how to use a wrapper function to make all of the probability calculations necessary for a given star. We also show a wrapper function that will generate a PDF with useful diagnostic graphs. "
   ]
  },
  {
   "cell_type": "markdown",
   "metadata": {},
   "source": [
    "## 0. Import packages"
   ]
  },
  {
   "cell_type": "code",
   "execution_count": null,
   "metadata": {},
   "outputs": [],
   "source": []
  },
  {
   "cell_type": "markdown",
   "metadata": {},
   "source": [
    "## 1. The calculation itself"
   ]
  },
  {
   "cell_type": "markdown",
   "metadata": {},
   "source": [
    "The command in itself is very simple. "
   ]
  },
  {
   "cell_type": "code",
   "execution_count": null,
   "metadata": {},
   "outputs": [],
   "source": []
  },
  {
   "cell_type": "markdown",
   "metadata": {},
   "source": [
    "The goal of this wrapper is to make calculations and create associated h5 files with the output data. \n",
    "\n",
    "If needed, all of these files can be examined afterward by loading them up with the appropriate object class in pyRaven.BayesObject, which also provide class functions to manipulate (and graph) this data, if some custom analysis is needed. \n",
    "See LINK TO NOTEBOOK for details. "
   ]
  },
  {
   "cell_type": "markdown",
   "metadata": {},
   "source": [
    "## 2. So, what are all of those files?"
   ]
  },
  {
   "cell_type": "markdown",
   "metadata": {},
   "source": [
    "To explain the outputs of the wrapper function, we need to quickly recap how the bayesian analysis works:\n",
    "\n",
    "We have two competitive hypothesis: The star is magnetic, the star is not magnetic.\n",
    "\n",
    "We have a model for the \"the star is magnetic\", which has some parameters $\\vec{\\theta}$ (Bpole, beta, incl, phi). The 'model' for the 'star is not magnetic\" is simply that Stokes V = 0, which has no model parameters. \n",
    "\n",
    "A few Bayesian definitions:\n",
    "\n",
    "* A hypothesis comparison: we compute the 'odds ratio' between two competing hypothesis (the star is magnetic versus the star is not magnetic)\n",
    "* A parameter estimation: we compute the probability of the model parameters assuming that the associated hypothesis is true. \n",
    "\n",
    "A few more definitions:\n",
    "\n",
    "* The prior is the probabilily of a given hypothesis/parameter in the absence of new data. \n",
    "* The likelihood is the probability of getting the current dataset if the hypothesis/parameters are the true hypothesis/parameters. This is closely related to (and calculated from) the chi square. \n",
    "* The posterior is the probability of a hypothesis/parameter while taking into account both the prior and the likelihood. \n",
    "\n",
    "And a few more definitions:\n",
    "\n",
    "* The output of a bayesian parameter estimation is not a probability but a probability density. Therefore to know the probability that the real value of parameter x is between x1 and x2, one must integrate the probability density between x1 and x2. \n",
    "\n",
    "* Normalization: the probability of a model over the whole set of parameters considered must be 1.0 (if the hypothesis is true, and the model is right, then the probability that the real value of the parameters is in the range covered by the parameters must be 1.0)\n",
    "* Marginalization: Imagine that we have a model with two parameters $\\theta_1$ and $\\theta_2$. The bayesian calculation gives us $P(\\theta_1, \\theta_2)$. But let's say that we are interested only in the probability density with respect to $\\theta_1$. In order word, what is the probability density for a particular value of $\\theta_1$ with $\\theta_2$ being able to be anything. Mathematically, this will be $P(\\theta_1) = \\int P(\\theta_1, \\theta_2)d\\theta_2$. \n",
    "* Noise scale parameter: when doing parameter estimation, it's a good idea to account for the possibility that our estimation for the error in our data might have been overestimated or underestimate (the latter could also be due to features in our data that the model cannot reproduce). We add this parameter as a scaling to the datapoint uncertainty. See LINK TO NOTEBOOK for details. \n",
    "\n",
    "More specifically about our bayesian model in the context of a magnetic star:\n",
    "\n",
    "* For multiple observations of a given star, the Bpole, incl and beta should remain the same. We are therefore interested in the probability density of each of these parameters when taking in account all of the observations together. However, the rotational phase (and the noise scale parameter) can change from observation to observation. Furthermore, in most applications of pyRaven, the rotational period is not known, therefore the rotational phase cannot be determined from an already known ephemeris. \n",
    "\n",
    "* Therefore the strategy is to caluculate the probability for (Bpole, beta, incl, phi) for each observations, marginalize the probability over the rotational phases (and noise scale parameter), and then combine the probabilities from each observations together. \n",
    "\n",
    "ASK TALI TO MAKE A FLOWCHART FOR THIS?"
   ]
  },
  {
   "cell_type": "markdown",
   "metadata": {},
   "source": [
    "Ok, now let's talk about the files:\n",
    "\n",
    "- "
   ]
  }
 ],
 "metadata": {
  "kernelspec": {
   "display_name": "Python 3.9.15 ('py39')",
   "language": "python",
   "name": "python3"
  },
  "language_info": {
   "name": "python",
   "version": "3.9.15"
  },
  "orig_nbformat": 4,
  "vscode": {
   "interpreter": {
    "hash": "0d105923ff2751b07541a5477823aa5d88058b2fa83b28e1bf4a447aeb52c9df"
   }
  }
 },
 "nbformat": 4,
 "nbformat_minor": 2
}
