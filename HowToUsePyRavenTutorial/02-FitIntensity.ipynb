{
 "cells": [
  {
   "cell_type": "markdown",
   "metadata": {},
   "source": [
    "# 02- Fit of the intensity profiles for single stars"
   ]
  },
  {
   "cell_type": "markdown",
   "metadata": {},
   "source": [
    "In this notebook, we demonstrate how to determine the line profile paramters that will be use to generate the synthetic Stokes V profile, base on a modelling of the Stokes I profiles. \n",
    "\n",
    "TODO: binary processing"
   ]
  },
  {
   "cell_type": "markdown",
   "metadata": {},
   "source": [
    "## 0. Importing the necessary packages"
   ]
  },
  {
   "cell_type": "code",
   "execution_count": 2,
   "metadata": {},
   "outputs": [
    {
     "name": "stdout",
     "output_type": "stream",
     "text": [
      "loading specpolFlow package\n"
     ]
    }
   ],
   "source": [
    "import pandas as pd\n",
    "#import itertools\n",
    "from IPython.display import display\n",
    "import pyRaven as rav\n",
    "import matplotlib.pyplot as plt\n",
    "import h5py as h5\n",
    "import json\n",
    "import numpy as np"
   ]
  },
  {
   "cell_type": "markdown",
   "metadata": {},
   "source": [
    "## 1. Opening the information spreadsheets, and loading the DataPacked created in the previous tutorial"
   ]
  },
  {
   "cell_type": "markdown",
   "metadata": {},
   "source": [
    "For this example, we will again use the spreadsheets from the data_example notebook, that contains some informations about the stars in the sample, as well as the observations for eachs stars.  \n",
    "\n"
   ]
  },
  {
   "cell_type": "markdown",
   "metadata": {},
   "source": [
    "In the cell below, we open the spreadsheets, and select the rows containing the information for the star HD 13745. (see the previous tutorials for some tips on how to used to functionality of Pandas to automate your processing with loops)."
   ]
  },
  {
   "cell_type": "code",
   "execution_count": 3,
   "metadata": {},
   "outputs": [],
   "source": [
    "sheet_id = \"1fHcSEr-hUV-VQ1bH9DjDppJQvZ-K9PzX5DRjnpKPbUk\"\n",
    "sheet_name = \"Stars\"\n",
    "url = f\"https://docs.google.com/spreadsheets/d/{sheet_id}/gviz/tq?tqx=out:csv&sheet={sheet_name}\"\n",
    "df_stars = pd.read_csv(url)\n",
    "\n",
    "sheet_name = \"Observations\"\n",
    "url = f\"https://docs.google.com/spreadsheets/d/{sheet_id}/gviz/tq?tqx=out:csv&sheet={sheet_name}\"\n",
    "df_obs = pd.read_csv(url)\n",
    "\n",
    "# Star contains the row for HD 13745\n",
    "star = df_stars.loc[df_stars[\"StarName\"]=='hd13745']\n",
    "\n",
    "# selecting the rows in the observation dataframe where the star name matches\n",
    "obs = df_obs.loc[df_obs[\"StarName\"]=='hd13745']"
   ]
  },
  {
   "cell_type": "markdown",
   "metadata": {},
   "source": [
    "In the cell below, we load the DataPacket that we created in the previous tutorial"
   ]
  },
  {
   "cell_type": "code",
   "execution_count": 4,
   "metadata": {},
   "outputs": [],
   "source": [
    "DataPacket = rav.data.read_packet('ExampleData/ExamplePacket.h5')"
   ]
  },
  {
   "cell_type": "markdown",
   "metadata": {},
   "source": [
    "## 2. Creating a parameter dictionary for the intensity profile fitting"
   ]
  },
  {
   "cell_type": "markdown",
   "metadata": {},
   "source": [
    "A lot of the main codes in pyRaven rely on a dictionary to pass the necessary parameters necessary for computations (see LINK for details). \n",
    "\n",
    "As a simple introduction here, we demonstrate two ways of creating these dictionaries (default parameter function, and direct dictionary creation), as well as how to write to file (and read back)in .json format. "
   ]
  },
  {
   "cell_type": "markdown",
   "metadata": {},
   "source": [
    "In the cell below, we use the `params.get_def_param_fitI()` function to return a typical dictionary suitable for a calculation of the intensity profile. \n",
    "We use the `pprint` method to do a pretty-print of the dictionary. \n",
    "We also illustrate quickly how to edit the value of a key in a dictionary. \n",
    "\n",
    "As you can see, `param` is a dictionary of sub-dictionaries (as explained ADD LINK). For the calculation of intensity profiles with the ADD FUNCTION function, we only need some elements in the `\"general\"` sub-dictionary (we would need additional sub-dictionaries if we were making Stokes V calculations, for example). "
   ]
  },
  {
   "cell_type": "code",
   "execution_count": 5,
   "metadata": {},
   "outputs": [
    {
     "name": "stdout",
     "output_type": "stream",
     "text": [
      "{\n",
      "  \"general\": {\n",
      "    \"lambda0\": 5000,\n",
      "    \"vsini\": 50.0,\n",
      "    \"vdop\": 10.0,\n",
      "    \"av\": 0.05,\n",
      "    \"bnu\": 1.5,\n",
      "    \"logkappa\": 0.98,\n",
      "    \"ndop\": 10\n",
      "  }\n",
      "}\n",
      "{\n",
      "  \"general\": {\n",
      "    \"lambda0\": 5000,\n",
      "    \"vsini\": 40.0,\n",
      "    \"vdop\": 10.0,\n",
      "    \"av\": 0.05,\n",
      "    \"bnu\": 1.5,\n",
      "    \"logkappa\": 0.98,\n",
      "    \"ndop\": 10\n",
      "  }\n",
      "}\n"
     ]
    }
   ],
   "source": [
    "param = rav.params.get_def_param_fitI()\n",
    "\n",
    "param.pprint()\n",
    "\n",
    "param[\"general\"][\"vsini\"]=40.0\n",
    "\n",
    "param.pprint()"
   ]
  },
  {
   "cell_type": "markdown",
   "metadata": {},
   "source": [
    "In the cell below, we provide an alternative method to create a `parameter` dictionary object. We first create the dictionary that contains the necessary keywords in the `\"general\"` sub-dictionary. As we only need this sub-dictionary for the intensity profile calculations below, we then create the main dictionary with only the 'general' sub-dictionary. We use the `params.parameters(dict)` class to create a `parameters` object (which is simply a regular dictionary with a few add-ons) so that we can use the `pprint()` method afterwards (but this is not strickly necessary to use the pyRaven calculation codes)"
   ]
  },
  {
   "cell_type": "code",
   "execution_count": 6,
   "metadata": {},
   "outputs": [
    {
     "name": "stdout",
     "output_type": "stream",
     "text": [
      "{\n",
      "  \"general\": {\n",
      "    \"lambda0\": 5000,\n",
      "    \"vsini\": 50.0,\n",
      "    \"vdop\": 10.0,\n",
      "    \"av\": 0.05,\n",
      "    \"bnu\": 1.5,\n",
      "    \"logkappa\": 0.98,\n",
      "    \"ndop\": 10\n",
      "  }\n",
      "}\n"
     ]
    }
   ],
   "source": [
    "genparam = {\n",
    "    'lambda0':5000,    # the central wavelength of the transition\n",
    "    'vsini':50.0,         # the projected rotational velocity\n",
    "    'vdop':10.0,          # the thermal broadening\n",
    "    'av':0.05,             # the damping coefficient of the Voigt profile\n",
    "    'bnu':1.5,             # the slope of the source function with respect to vertical optical depth\n",
    "    'logkappa':0.98,          # the line strength parameter\n",
    "    'ndop':int(10)      # the number of sample point per doppler width for the wavelength array\n",
    "  }\n",
    "\n",
    "param=rav.params.parameters({'general' : genparam})\n",
    "\n",
    "param.pprint()"
   ]
  },
  {
   "cell_type": "markdown",
   "metadata": {},
   "source": [
    "In the cell below, we illustrate how to use the `write` method of the `parameters` dictionary class to write the information to a .json file for safe-keeping. \n",
    "\n",
    "We chose to use the json format because they are human-readable. "
   ]
  },
  {
   "cell_type": "code",
   "execution_count": 7,
   "metadata": {},
   "outputs": [],
   "source": [
    "param.write('ExampleData/FitI_param.json')"
   ]
  },
  {
   "cell_type": "markdown",
   "metadata": {},
   "source": [
    "In the cell below, we show how to read back these .json files back into a `parameters` dictionary object.\n",
    "\n",
    "As the json format is easily human-readable, it is also possible to use these files as input files to create your parameters dictionaries. (However, please note the subtleties with python lists versus numpy arrays described in ADD LINK, especially for the parameters related to the unno zeeman parameters and the loop grid parameters)."
   ]
  },
  {
   "cell_type": "code",
   "execution_count": 8,
   "metadata": {},
   "outputs": [
    {
     "name": "stdout",
     "output_type": "stream",
     "text": [
      "{\n",
      "  \"general\": {\n",
      "    \"av\": 0.05,\n",
      "    \"bnu\": 1.5,\n",
      "    \"lambda0\": 5000,\n",
      "    \"logkappa\": 0.98,\n",
      "    \"ndop\": 10,\n",
      "    \"vdop\": 10.0,\n",
      "    \"vsini\": 50.0\n",
      "  }\n",
      "}\n"
     ]
    }
   ],
   "source": [
    "param = rav.params.read_parameters('ExampleData/FitI_param.json')\n",
    "\n",
    "param.pprint()"
   ]
  },
  {
   "cell_type": "markdown",
   "metadata": {},
   "source": []
  },
  {
   "cell_type": "markdown",
   "metadata": {},
   "source": [
    "## Below, dev still"
   ]
  },
  {
   "cell_type": "code",
   "execution_count": 9,
   "metadata": {},
   "outputs": [],
   "source": [
    "genparam = {\n",
    "    'lambda0':5000,    # the central wavelength of the transition\n",
    "    'vsini':50.0,         # the projected rotational velocity\n",
    "    'vdop':10.0,          # the thermal broadening\n",
    "    'av':0.05,             # the damping coefficient of the Voigt profile\n",
    "    'bnu':1.5,             # the slope of the source function with respect to vertical optical depth\n",
    "    'logkappa':0.98,          # the line strength parameter\n",
    "    'ndop':int(10),       # the number of sample point per doppler width for the wavelength array\n",
    "    'Bpole':1000, #not necessary for loop\n",
    "    'incl':30., #not necessary for loop\n",
    "    'beta':30, #not necessary for loop\n",
    "    'phase':90. #not necessary for loop\n",
    "  }\n",
    "\n",
    "unnoparam = {\n",
    "    'down':[0, 0, 0],   # the s, j, l of the lower level\n",
    "    'up':[0, 1, 1],    # the s, j, l of the upper level\n",
    "    }\n",
    "\n",
    "weakparam = {\n",
    "        'geff':1.0\n",
    "    }\n",
    "\n",
    "gridparam = {\n",
    "        'Bgrid': np.array([1000, 2000]),\n",
    "        'igrid': np.array([30,60]),\n",
    "        'betagrid':np.array([30]),\n",
    "        'phasegrid':np.array([90])\n",
    "        }\n",
    "    \n",
    "param={'general' : genparam,\n",
    "       'weak' : weakparam,\n",
    "       'grid' : gridparam,\n",
    "       'unno': unnoparam # no necessary for loop\n",
    "       }"
   ]
  }
 ],
 "metadata": {
  "kernelspec": {
   "display_name": "Python 3.9.15 ('py39')",
   "language": "python",
   "name": "python3"
  },
  "language_info": {
   "codemirror_mode": {
    "name": "ipython",
    "version": 3
   },
   "file_extension": ".py",
   "mimetype": "text/x-python",
   "name": "python",
   "nbconvert_exporter": "python",
   "pygments_lexer": "ipython3",
   "version": "3.9.15"
  },
  "orig_nbformat": 4,
  "vscode": {
   "interpreter": {
    "hash": "0d105923ff2751b07541a5477823aa5d88058b2fa83b28e1bf4a447aeb52c9df"
   }
  }
 },
 "nbformat": 4,
 "nbformat_minor": 2
}
