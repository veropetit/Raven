{
 "cells": [
  {
   "cell_type": "code",
   "execution_count": 1,
   "id": "0a261303",
   "metadata": {},
   "outputs": [
    {
     "name": "stdout",
     "output_type": "stream",
     "text": [
      "loading specpolFlow package\n",
      "importing specpolFlow.iolsd\n"
     ]
    }
   ],
   "source": [
    "import specpolFlow as pol\n",
    "import numpy as np\n",
    "import matplotlib.pyplot as plt"
   ]
  },
  {
   "cell_type": "code",
   "execution_count": 2,
   "id": "d4fd95b3",
   "metadata": {},
   "outputs": [],
   "source": [
    "import pyRaven as rav"
   ]
  },
  {
   "cell_type": "code",
   "execution_count": 3,
   "id": "3fabc19c",
   "metadata": {},
   "outputs": [],
   "source": [
    "Packet = rav.data.read_packet('Packet_test.h5')"
   ]
  },
  {
   "cell_type": "code",
   "execution_count": 7,
   "id": "47783a87",
   "metadata": {},
   "outputs": [],
   "source": [
    "genparam = {\n",
    "    'lambda0':5000,    # the central wavelength of the transition\n",
    "    'vsini':50.0,         # the projected rotational velocity\n",
    "    'vdop':10.0,          # the thermal broadening\n",
    "    'av':0.05,             # the damping coefficient of the Voigt profile\n",
    "    'bnu':1.5,             # the slope of the source function with respect to vertical optical depth\n",
    "    'logkappa':10**0.98,          # the line strength parameter\n",
    "    'ndop':int(100),       # the number of sample point per doppler width for the wavelength array\n",
    "  }\n",
    "\n",
    "weakparam = {\n",
    "        'geff':1.0\n",
    "    }\n",
    "\n",
    "gridparam = {\n",
    "        'Bgrid': np.array([1000, 2000]),\n",
    "        'igrid': np.array([30,60]),\n",
    "        'betagrid':np.array([30]),\n",
    "        'phasegrid':np.array([90])\n",
    "        }\n",
    "    \n",
    "param={'general' : genparam,\n",
    "       'weak' : weakparam,\n",
    "       'grid' : gridparam,\n",
    "       }"
   ]
  },
  {
   "cell_type": "code",
   "execution_count": 8,
   "id": "968e2e0b",
   "metadata": {},
   "outputs": [
    {
     "name": "stdout",
     "output_type": "stream",
     "text": [
      "Max velocity needed: 20.0 vdop\n"
     ]
    },
    {
     "data": {
      "text/plain": [
       "<matplotlib.legend.Legend at 0x7faa6b915d90>"
      ]
     },
     "execution_count": 8,
     "metadata": {},
     "output_type": "execute_result"
    },
    {
     "data": {
      "image/png": "[encoded data removed]",
      "text/plain": [
       "<Figure size 432x288 with 1 Axes>"
      ]
     },
     "metadata": {
      "needs_background": "light"
     },
     "output_type": "display_data"
    }
   ],
   "source": [
    "fig, ax = plt.subplots(1,1)\n",
    "\n",
    "rav.loop.loop(param, Packet, ax)\n",
    "\n",
    "ax.legend(loc=0)"
   ]
  },
  {
   "cell_type": "code",
   "execution_count": null,
   "id": "ad7a321a",
   "metadata": {},
   "outputs": [],
   "source": []
  },
  {
   "cell_type": "code",
   "execution_count": null,
   "id": "a3b02ef6",
   "metadata": {},
   "outputs": [],
   "source": []
  }
 ],
 "metadata": {
  "kernelspec": {
   "display_name": "Python 3",
   "language": "python",
   "name": "python3"
  },
  "language_info": {
   "codemirror_mode": {
    "name": "ipython",
    "version": 3
   },
   "file_extension": ".py",
   "mimetype": "text/x-python",
   "name": "python",
   "nbconvert_exporter": "python",
   "pygments_lexer": "ipython3",
   "version": "3.8.8"
  }
 },
 "nbformat": 4,
 "nbformat_minor": 5
}
