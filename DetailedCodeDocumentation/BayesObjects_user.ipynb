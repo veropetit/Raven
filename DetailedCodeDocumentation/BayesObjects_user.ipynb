{
 "cells": [
  {
   "cell_type": "markdown",
   "metadata": {},
   "source": [
    "## User's manual for the BayesObjects.py classes"
   ]
  },
  {
   "cell_type": "markdown",
   "metadata": {},
   "source": [
    "Most users will not need to access directly the classes defined in BayesObjects.py. \n",
    "\n",
    "Instead, a user interested in applying the bayesian analysis to a dataset will most likely use the wrapper functions that perform the analysis in a batch, and create diagnostic graphs. \n",
    "For this, see LINK TO NOTEBOOK\n",
    "\n",
    "This notebook serves as a users manual for a more advanced user who wishes to analyze and access specific outputs from the wrapper codes and/or create custom graphs. "
   ]
  },
  {
   "cell_type": "markdown",
   "metadata": {},
   "source": [
    "## 0. Necessary packages"
   ]
  },
  {
   "cell_type": "code",
   "execution_count": 1,
   "metadata": {},
   "outputs": [
    {
     "name": "stdout",
     "output_type": "stream",
     "text": [
      "loading specpolFlow package\n"
     ]
    }
   ],
   "source": [
    "import pyRaven as rav\n",
    "\n",
    "from pprint import pprint"
   ]
  },
  {
   "cell_type": "markdown",
   "metadata": {},
   "source": [
    "## 1. Quick description of the object classes"
   ]
  },
  {
   "cell_type": "markdown",
   "metadata": {},
   "source": [
    "BayesObjects.py defines X python objects as classes. Each object are initialized by passing the necessary data, and provide a write method to a h5 file. Function are also provided to read in the saved h5 files. \n",
    "\n",
    "All of the objects have a `Object.data`, which contains a multi-D matrix with the actual data (chi2, probability, etc). The object also has additional datasets that contains the grid values for each dimension of the data array (e.g. `Object.Bpole_arr`). The objects may also contain additional metadata, for example a string containing the name of the observation. \n",
    "\n",
    "* chi object: \n",
    "    - a 3D dataset, with dimensions (beta, Bpole, phi)\n",
    "    - the grid definition (beta_arr, Bpole_arr, phi_arr)\n",
    "    - the inclination used (float), the ObsID string\n",
    "\n",
    "* lnP_odds object:\n",
    "    - a 4D dataset, with dimensions (beta, Bpole, phi, incl)\n",
    "    - the grid definition (beta_arr, Bpole_arr, phi_arr, incl_arr)\n",
    "    - the ObsID string. \n",
    "\n",
    "* lnP_pars object:\n",
    "    - a 5D dataset, with dimensions (beta, Bpole, phi, incl, noise)\n",
    "    - the grid definition (beta_arr, Bpole_arr, phi_arr, incl_arr, noise_arr)\n",
    "    - the ObsID string\n",
    "    - Note: This class in fact is a child class of lnP_odds, with the addition of the scale parameter. \n",
    "\n",
    "* lnP_mar object:\n",
    "    - a 3D dataset, with dimensions (beta, Bpole, incl)\n",
    "    - the grid definition (beta_arr, Bpole_arr, incl_arr)\n",
    "    - the ObsID string\n",
    "    - The main use for this class is to store our probabilities that have been marginalized for the rotational phase (and the noise scale parameter for the parameter estimation -- because the latter is also marginalized, there was no need for two separate classes for the odds ratio calculations and the parameter estimation). "
   ]
  },
  {
   "cell_type": "markdown",
   "metadata": {},
   "source": [
    "## 2. The chi class"
   ]
  },
  {
   "cell_type": "markdown",
   "metadata": {},
   "source": [
    "The usage of this class is mainly to serve as containers in the loop calculation (as can be gleaned from the class function that creates an empty object)\n",
    "\n",
    "This said, the class can be used to examine individual chi2 files. As a reminder, to save on RAM usage, the loop code creates one datafile for each of the outer loop on the inclination grid. "
   ]
  },
  {
   "cell_type": "markdown",
   "metadata": {},
   "source": [
    "The cell below load in an example chi2 file, and display the content of the object. "
   ]
  },
  {
   "cell_type": "code",
   "execution_count": 2,
   "metadata": {},
   "outputs": [
    {
     "data": {
      "text/plain": [
       "{'data': array([[[ 198.22318866,  198.22318866,  198.22318866, ...,\n",
       "           198.22318866,  198.22318866,  198.22318866],\n",
       "         [ 201.10054504,  201.1004485 ,  201.10051269, ...,\n",
       "           201.10049601,  201.10043842,  201.10054504],\n",
       "         [ 206.3923549 ,  206.39194372,  206.39215983, ...,\n",
       "           206.39213313,  206.39196855,  206.3923549 ],\n",
       "         ...,\n",
       "         [ 819.26378252,  819.21127873,  819.23295433, ...,\n",
       "           819.23412683,  819.22144904,  819.26378252],\n",
       "         [ 875.25911543,  875.20171701,  875.22538664, ...,\n",
       "           875.22668908,  875.21286695,  875.25911543],\n",
       "         [ 933.6689018 ,  933.60639067,  933.63214205, ...,\n",
       "           933.63358109,  933.61856524,  933.6689018 ]],\n",
       " \n",
       "        [[ 198.22318866,  198.22318866,  198.22318866, ...,\n",
       "           198.22318866,  198.22318866,  198.22318866],\n",
       "         [ 202.08614529,  202.08681407,  202.05948559, ...,\n",
       "           202.00162157,  202.05742032,  202.08614529],\n",
       "         [ 209.57930159,  209.56584321,  209.46703159, ...,\n",
       "           209.35031098,  209.50658212,  209.57930159],\n",
       "         ...,\n",
       "         [1121.78435596, 1118.38120819, 1107.58025337, ...,\n",
       "          1106.0779635 , 1117.62514829, 1121.78435596],\n",
       "         [1205.51170511, 1201.78371555, 1189.98402955, ...,\n",
       "          1188.40203934, 1200.98784311, 1205.51170511],\n",
       "         [1292.86925391, 1288.80162664, 1275.95905479, ...,\n",
       "          1274.29637168, 1287.96546807, 1292.86925391]],\n",
       " \n",
       "        [[ 198.22318866,  198.22318866,  198.22318866, ...,\n",
       "           198.22318866,  198.22318866,  198.22318866],\n",
       "         [ 202.98120961,  202.98711243,  202.94618598, ...,\n",
       "           202.83230761,  202.92925996,  202.98120961],\n",
       "         [ 212.54357915,  212.53549787,  212.39247966, ...,\n",
       "           212.16248994,  212.41866489,  212.54357915],\n",
       "         ...,\n",
       "         [1412.70417312, 1408.240155  , 1393.21058894, ...,\n",
       "          1390.18944709, 1406.70682427, 1412.70417312],\n",
       "         [1523.15786298, 1518.26223528, 1501.84610618, ...,\n",
       "          1498.66196047, 1516.64623528, 1523.15786298],\n",
       "         [1638.41590142, 1633.06877721, 1615.20491979, ...,\n",
       "          1611.85553724, 1631.36897992, 1638.41590142]],\n",
       " \n",
       "        ...,\n",
       " \n",
       "        [[ 198.22318866,  198.22318866,  198.22318866, ...,\n",
       "           198.22318866,  198.22318866,  198.22318866],\n",
       "         [ 197.71352885,  197.75360558,  197.81497195, ...,\n",
       "           197.70264367,  197.69658893,  197.71352885],\n",
       "         [ 197.70225416,  197.83091512,  198.0971441 , ...,\n",
       "           197.87328006,  197.71730396,  197.70225416],\n",
       "         ...,\n",
       "         [ 302.13763495,  314.22455649,  348.72224545, ...,\n",
       "           346.43409826,  313.06770297,  302.13763495],\n",
       "         [ 312.59244772,  325.78661109,  363.50258344, ...,\n",
       "           361.11954369,  324.58202785,  312.59244772],\n",
       "         [ 323.5456456 ,  337.89555831,  378.97331028, ...,\n",
       "           376.49617051,  336.64366748,  323.5456456 ]],\n",
       " \n",
       "        [[ 198.22318866,  198.22318866,  198.22318866, ...,\n",
       "           198.22318866,  198.22318866,  198.22318866],\n",
       "         [ 197.64831209,  197.66729315,  197.69479536, ...,\n",
       "           197.63778184,  197.63837903,  197.64831209],\n",
       "         [ 198.39473882,  198.45457871,  198.57516982, ...,\n",
       "           198.46177252,  198.39710811,  198.39473882],\n",
       "         ...,\n",
       "         [ 490.79696666,  496.26831601,  512.02388877, ...,\n",
       "           510.91506257,  495.71481873,  490.79696666],\n",
       "         [ 519.29076271,  525.26240418,  542.4883862 , ...,\n",
       "           541.33640089,  524.68786071,  519.29076271],\n",
       "         [ 549.10586206,  555.59967342,  574.3616514 , ...,\n",
       "           573.16713671,  555.00444141,  549.10586206]],\n",
       " \n",
       "        [[ 198.22318866,  198.22318866,  198.22318866, ...,\n",
       "           198.22318866,  198.22318866,  198.22318866],\n",
       "         [ 197.76028575,  197.76016421,  197.76018773, ...,\n",
       "           197.76021107,  197.76021927,  197.76028575],\n",
       "         [ 199.71183633,  199.71137514,  199.7115099 , ...,\n",
       "           199.71156326,  199.71153025,  199.71183633],\n",
       "         ...,\n",
       "         [ 745.77807817,  745.72502434,  745.74580504, ...,\n",
       "           745.74785819,  745.73662776,  745.77807817],\n",
       "         [ 798.43315178,  798.37517833,  798.39791238, ...,\n",
       "           798.4001355 ,  798.38782653,  798.43315178],\n",
       "         [ 853.50267887,  853.43956771,  853.46434282, ...,\n",
       "           853.46674258,  853.45330567,  853.50267887]]]),\n",
       " 'beta_arr': array([  0.        ,  10.58823529,  21.17647059,  31.76470588,\n",
       "         42.35294118,  52.94117647,  63.52941176,  74.11764706,\n",
       "         84.70588235,  95.29411765, 105.88235294, 116.47058824,\n",
       "        127.05882353, 137.64705882, 148.23529412, 158.82352941,\n",
       "        169.41176471, 180.        ]),\n",
       " 'Bpole_arr': array([   0.        ,  208.33333333,  416.66666667,  625.        ,\n",
       "         833.33333333, 1041.66666667, 1250.        , 1458.33333333,\n",
       "        1666.66666667, 1875.        , 2083.33333333, 2291.66666667,\n",
       "        2500.        , 2708.33333333, 2916.66666667, 3125.        ,\n",
       "        3333.33333333, 3541.66666667, 3750.        , 3958.33333333,\n",
       "        4166.66666667, 4375.        , 4583.33333333, 4791.66666667,\n",
       "        5000.        ]),\n",
       " 'phi_arr': array([  0.        ,  10.28571429,  20.57142857,  30.85714286,\n",
       "         41.14285714,  51.42857143,  61.71428571,  72.        ,\n",
       "         82.28571429,  92.57142857, 102.85714286, 113.14285714,\n",
       "        123.42857143, 133.71428571, 144.        , 154.28571429,\n",
       "        164.57142857, 174.85714286, 185.14285714, 195.42857143,\n",
       "        205.71428571, 216.        , 226.28571429, 236.57142857,\n",
       "        246.85714286, 257.14285714, 267.42857143, 277.71428571,\n",
       "        288.        , 298.28571429, 308.57142857, 318.85714286,\n",
       "        329.14285714, 339.42857143, 349.71428571, 360.        ]),\n",
       " 'incl': 52.94117647058823,\n",
       " 'obsID': 'hd13745_21aug12pn.s_Ic_lsd_cln_twk_reg0.2'}"
      ]
     },
     "execution_count": 2,
     "metadata": {},
     "output_type": "execute_result"
    }
   ],
   "source": [
    "chi2 = rav.BayesObjects.read_chi('ExampleData/BayesObject_user/chiV_i5obs0.h5')\n",
    "\n",
    "vars(chi2)"
   ]
  },
  {
   "cell_type": "markdown",
   "metadata": {},
   "source": [
    "In the cell below, we use a class method to make a Beta-Bpole chi2 (total, not reduced) map for the i-th phase in the file. "
   ]
  },
  {
   "cell_type": "code",
   "execution_count": 5,
   "metadata": {},
   "outputs": [
    {
     "data": {
      "image/png": "[encoded data removed]",
      "text/plain": [
       "<Figure size 640x480 with 2 Axes>"
      ]
     },
     "metadata": {},
     "output_type": "display_data"
    }
   ],
   "source": [
    "i_phase = 1\n",
    "fig, ax = chi2.plot(i_phase)"
   ]
  },
  {
   "cell_type": "markdown",
   "metadata": {},
   "source": [
    "The chi2 object did not save the number of data points in the observation (as the likelihood calculation requires the total chi2). But if one wishes to make a graph of the reduced chi2, the number of datapoint can be retrieved from the associated datapacket file/object and one can simply run:\n",
    "``` \n",
    "chi2.data = chi2.data / npoints\n",
    "i_phase = 1\n",
    "chi2.plot(i_phase)\n"
   ]
  },
  {
   "cell_type": "markdown",
   "metadata": {},
   "source": [
    "## The lnP_PARS class"
   ]
  },
  {
   "cell_type": "code",
   "execution_count": null,
   "metadata": {},
   "outputs": [],
   "source": []
  }
 ],
 "metadata": {
  "kernelspec": {
   "display_name": "Python 3.9.15 ('py39')",
   "language": "python",
   "name": "python3"
  },
  "language_info": {
   "codemirror_mode": {
    "name": "ipython",
    "version": 3
   },
   "file_extension": ".py",
   "mimetype": "text/x-python",
   "name": "python",
   "nbconvert_exporter": "python",
   "pygments_lexer": "ipython3",
   "version": "3.9.15"
  },
  "orig_nbformat": 4,
  "vscode": {
   "interpreter": {
    "hash": "0d105923ff2751b07541a5477823aa5d88058b2fa83b28e1bf4a447aeb52c9df"
   }
  }
 },
 "nbformat": 4,
 "nbformat_minor": 2
}
