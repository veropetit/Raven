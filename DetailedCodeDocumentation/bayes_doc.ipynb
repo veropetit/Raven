{
 "cells": [
  {
   "cell_type": "markdown",
   "metadata": {},
   "source": [
    "# Documentation for the bayesian calculations"
   ]
  },
  {
   "cell_type": "markdown",
   "metadata": {},
   "source": [
    "## 1. Likelihood"
   ]
  },
  {
   "cell_type": "markdown",
   "metadata": {},
   "source": [
    "For odd ratio calculations\n",
    "\n",
    "\n",
    "$$\tp(D|M,I) =  (2\\pi)^{-N/2}\\left[\\prod_{i=1}^N\\sigma_i^{-1}\\right]  \\exp\\left\\{-\\frac{1}{2}\\sum_{i=1}^N\\frac{(d_i-f_i)^2}{\\sigma_i^2}\\right\\}.\n",
    "$$\n",
    "\n",
    "or in $\\ln$ form\n"
   ]
  },
  {
   "cell_type": "markdown",
   "metadata": {},
   "source": [
    "\n",
    "$$\t\\ln\\left( p(D|M,I)\\right) =  (-N/2)\\ln(2\\pi) + \\left[\\sum_{i=1}^N\\ln(\\sigma_i^{-1})\\right] + \\left\\{-\\frac{1}{2}\\sum_{i=1}^N\\frac{(d_i-f_i)^2}{\\sigma_i^2}\\right\\}.\n",
    "$$"
   ]
  },
  {
   "cell_type": "markdown",
   "metadata": {},
   "source": [
    "For parameter estimation, we add a scale noise parameter $b$ that models any deviation of our estimation of data uncertainties from the real uncertainty. This also account for any phenomenology that our model cannot reproduce. \n",
    "\n",
    "$b$ is define such that\n",
    "$$\\frac{1}{\\sigma_i^2}=\\frac{b}{s_i^2}$$\n",
    "where $\\sigma_i$ is the true uncertainty on data point $i$, and $s_i$ is our estimate of the uncertainty. \n",
    "\n",
    "$$\tp(D|M,I)=(2\\pi)^{-N/2}(d)^{N/2}\\left[\\prod_{i=1}^Ns_i^{-1}\\right]  \\exp\\left\\lbrace-\\frac{b}{2}\\sum_{i=1}^N\\frac{(d_i-f_i)^2}{s_i^2}\\right\\rbrace. $$\n",
    "\n",
    "or in its $\\ln$ form:\n",
    "\n"
   ]
  },
  {
   "cell_type": "markdown",
   "metadata": {},
   "source": [
    "$$\tp(D|M,I)=(-N/2)\\ln(2\\pi) + (N/2)\\ln(d)+ \\left[\\sum_{i=1}^N \\ln(s_i^{-1})\\right] + \\left\\lbrace-\\frac{b}{2}\\sum_{i=1}^N\\frac{(d_i-f_i)^2}{s_i^2}\\right\\rbrace. $$"
   ]
  },
  {
   "cell_type": "markdown",
   "metadata": {},
   "source": []
  }
 ],
 "metadata": {
  "kernelspec": {
   "display_name": "Python 3.9.15 ('py39')",
   "language": "python",
   "name": "python3"
  },
  "language_info": {
   "name": "python",
   "version": "3.9.15"
  },
  "orig_nbformat": 4,
  "vscode": {
   "interpreter": {
    "hash": "0d105923ff2751b07541a5477823aa5d88058b2fa83b28e1bf4a447aeb52c9df"
   }
  }
 },
 "nbformat": 4,
 "nbformat_minor": 2
}
