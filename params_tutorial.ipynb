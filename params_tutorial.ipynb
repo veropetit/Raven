{
 "cells": [
  {
   "attachments": {},
   "cell_type": "markdown",
   "metadata": {},
   "source": [
    "# Params Dictionary Tutorial\n",
    "\n",
    "In this tutorial the structure and usability of the param class explained in detail."
   ]
  },
  {
   "cell_type": "code",
   "execution_count": 1,
   "metadata": {},
   "outputs": [
    {
     "name": "stdout",
     "output_type": "stream",
     "text": [
      "loading specpolFlow package\n"
     ]
    }
   ],
   "source": [
    "import pandas as pd\n",
    "#import itertools\n",
    "from IPython.display import display\n",
    "import pyRaven as rav\n",
    "import matplotlib.pyplot as plt\n",
    "import h5py as h5\n",
    "import json\n",
    "import numpy as np"
   ]
  },
  {
   "attachments": {},
   "cell_type": "markdown",
   "metadata": {},
   "source": [
    "A lot of the main codes in pyRaven rely on a dictionary to pass the necessary parameters necessary for computations. This notebook will walk through the creation and features of these dictionaries "
   ]
  },
  {
   "attachments": {},
   "cell_type": "markdown",
   "metadata": {},
   "source": [
    "The parameters class is a dictionary of dictionaries. The outermost layer of the dictionary contains the following keys:\n",
    "* genparam - general parameters used throughout pyRaven calculations\n",
    "* unnoparam - parameters used in unno method for disk integration\n",
    "* weakparam - parameters used in the weak field limit method for disk integration\n",
    "* gridparam - parameters used in loop over all possible Bpole, inclination, phase, and obliquity\n",
    "\n",
    "Not all of these dictionaries are needed for every calculation, for example when using the `weakparam` method the `unnoparam` dictionary is not used. Regardless of if you include the `unnoparam` dictionary or not the code will not use it. \n",
    "\n",
    "Within each subdictionary there are a set of keys and corresponding values that are actually used by the code. Again, as will the subdictionaries themeselves, if a certain code or method doesn't use any specific parameter then that parameter can either be included or excluded. For example, inside the `genparam` dictionary we have the keys `Bpole`, `incl`, `beta`, and `phase`. These parameters are only used in the loop code and as such have no effect on the other calculations regardless of if they are included or not. The `params.md` file has a break down of the minimum dictionaries and keys needed for a specific calculation. \n",
    "\n",
    "Below is an example of the structure of the dictionarys."
   ]
  },
  {
   "cell_type": "code",
   "execution_count": 2,
   "metadata": {},
   "outputs": [],
   "source": [
    "#subdictionaries\n",
    "genparam = {\n",
    "    'lambda0':5000,    # the central wavelength of the transition\n",
    "    'vsini':50.0,         # the projected rotational velocity\n",
    "    'vdop':10.0,          # the thermal broadening\n",
    "    'av':0.05,             # the damping coefficient of the Voigt profile\n",
    "    'bnu':1.5,             # the slope of the source function with respect to vertical optical depth\n",
    "    'logkappa':0.98,          # the line strength parameter\n",
    "    'ndop':int(10),       # the number of sample point per doppler width for the wavelength array\n",
    "    'Bpole':1000, #not necessary for loop\n",
    "    'incl':30., #not necessary for loop\n",
    "    'beta':30, #not necessary for loop\n",
    "    'phase':90. #not necessary for loop\n",
    "  }\n",
    "\n",
    "unnoparam = {\n",
    "    'down':[0, 0, 0],   # the s, j, l of the lower level\n",
    "    'up':[0, 1, 1],    # the s, j, l of the upper level\n",
    "    }\n",
    "\n",
    "weakparam = {\n",
    "        'geff':1.0 \n",
    "    }\n",
    "\n",
    "gridparam = {\n",
    "        'Bgrid': np.array([1000, 2000]),\n",
    "        'igrid': np.array([30,60]),\n",
    "        'betagrid':np.array([30]),\n",
    "        'phasegrid':np.array([90])\n",
    "        }\n",
    "\n",
    "# The actual dictionary\n",
    "param={'general' : genparam,\n",
    "       'weak' : weakparam,\n",
    "       'grid' : gridparam,\n",
    "       'unno': unnoparam \n",
    "       }\n",
    "\n",
    "param=rav.params.parameters(param)"
   ]
  },
  {
   "attachments": {},
   "cell_type": "markdown",
   "metadata": {},
   "source": [
    "The dictionary can the be saved to a `.json` file as shown below."
   ]
  },
  {
   "cell_type": "code",
   "execution_count": 3,
   "metadata": {},
   "outputs": [],
   "source": [
    "param.write('ExampleData/params_tutorial.json')"
   ]
  },
  {
   "attachments": {},
   "cell_type": "markdown",
   "metadata": {},
   "source": [
    "We can also read in a json and output a dictionary. However, please note that all numpy arrays get converted to python lists. \n",
    "\n",
    "The `pprint` function prints the output dictionary in a nicely formated structure for visualization."
   ]
  },
  {
   "cell_type": "code",
   "execution_count": 4,
   "metadata": {},
   "outputs": [
    {
     "name": "stdout",
     "output_type": "stream",
     "text": [
      "{\n",
      "  \"general\": {\n",
      "    \"Bpole\": 1000,\n",
      "    \"av\": 0.05,\n",
      "    \"beta\": 30,\n",
      "    \"bnu\": 1.5,\n",
      "    \"incl\": 30.0,\n",
      "    \"lambda0\": 5000,\n",
      "    \"logkappa\": 0.98,\n",
      "    \"ndop\": 10,\n",
      "    \"phase\": 90.0,\n",
      "    \"vdop\": 10.0,\n",
      "    \"vsini\": 50.0\n",
      "  },\n",
      "  \"grid\": {\n",
      "    \"Bgrid\": \"[1000 2000]\",\n",
      "    \"betagrid\": \"[30]\",\n",
      "    \"igrid\": \"[30 60]\",\n",
      "    \"phasegrid\": \"[90]\"\n",
      "  },\n",
      "  \"unno\": {\n",
      "    \"down\": [\n",
      "      0,\n",
      "      0,\n",
      "      0\n",
      "    ],\n",
      "    \"up\": [\n",
      "      0,\n",
      "      1,\n",
      "      1\n",
      "    ]\n",
      "  },\n",
      "  \"weak\": {\n",
      "    \"geff\": 1.0\n",
      "  }\n",
      "}\n"
     ]
    }
   ],
   "source": [
    "param = rav.params.read_parameters('ExampleData/params_tutorial.json')\n",
    "\n",
    "param.pprint()"
   ]
  },
  {
   "attachments": {},
   "cell_type": "markdown",
   "metadata": {},
   "source": [
    "The `parameter` class functions very similarly to python dictionaries. As such, we can change the values of subdictionaries and the values within subdictionaries. For example we can set `vsini` to be 40 with the following code: "
   ]
  },
  {
   "cell_type": "code",
   "execution_count": 5,
   "metadata": {},
   "outputs": [
    {
     "name": "stdout",
     "output_type": "stream",
     "text": [
      "{\n",
      "  \"general\": {\n",
      "    \"Bpole\": 1000,\n",
      "    \"av\": 0.05,\n",
      "    \"beta\": 30,\n",
      "    \"bnu\": 1.5,\n",
      "    \"incl\": 30.0,\n",
      "    \"lambda0\": 5000,\n",
      "    \"logkappa\": 0.98,\n",
      "    \"ndop\": 10,\n",
      "    \"phase\": 90.0,\n",
      "    \"vdop\": 10.0,\n",
      "    \"vsini\": 40\n",
      "  },\n",
      "  \"grid\": {\n",
      "    \"Bgrid\": \"[1000 2000]\",\n",
      "    \"betagrid\": \"[30]\",\n",
      "    \"igrid\": \"[30 60]\",\n",
      "    \"phasegrid\": \"[90]\"\n",
      "  },\n",
      "  \"unno\": {\n",
      "    \"down\": [\n",
      "      0,\n",
      "      0,\n",
      "      0\n",
      "    ],\n",
      "    \"up\": [\n",
      "      0,\n",
      "      1,\n",
      "      1\n",
      "    ]\n",
      "  },\n",
      "  \"weak\": {\n",
      "    \"geff\": 1.0\n",
      "  }\n",
      "}\n"
     ]
    }
   ],
   "source": [
    "param['general']['vsini']=40\n",
    "\n",
    "param.pprint()"
   ]
  },
  {
   "cell_type": "code",
   "execution_count": null,
   "metadata": {},
   "outputs": [],
   "source": []
  },
  {
   "cell_type": "code",
   "execution_count": null,
   "metadata": {},
   "outputs": [],
   "source": []
  },
  {
   "cell_type": "code",
   "execution_count": null,
   "metadata": {},
   "outputs": [],
   "source": []
  },
  {
   "cell_type": "code",
   "execution_count": null,
   "metadata": {},
   "outputs": [],
   "source": []
  }
 ],
 "metadata": {
  "kernelspec": {
   "display_name": "base",
   "language": "python",
   "name": "python3"
  },
  "language_info": {
   "codemirror_mode": {
    "name": "ipython",
    "version": 3
   },
   "file_extension": ".py",
   "mimetype": "text/x-python",
   "name": "python",
   "nbconvert_exporter": "python",
   "pygments_lexer": "ipython3",
   "version": "3.9.7"
  },
  "orig_nbformat": 4
 },
 "nbformat": 4,
 "nbformat_minor": 2
}
