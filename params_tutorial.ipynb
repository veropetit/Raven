{
 "cells": [
  {
   "attachments": {},
   "cell_type": "markdown",
   "metadata": {},
   "source": [
    "# Params Dictionary Tutorial\n",
    "\n",
    "In this tutorial the structure and usability of the param class explained in detail."
   ]
  },
  {
   "cell_type": "code",
   "execution_count": 1,
   "metadata": {},
   "outputs": [
    {
     "name": "stdout",
     "output_type": "stream",
     "text": [
      "loading specpolFlow package\n"
     ]
    }
   ],
   "source": [
    "import pandas as pd\n",
    "#import itertools\n",
    "from IPython.display import display\n",
    "import pyRaven as rav\n",
    "import matplotlib.pyplot as plt\n",
    "import h5py as h5\n",
    "import json\n",
    "import numpy as np"
   ]
  },
  {
   "attachments": {},
   "cell_type": "markdown",
   "metadata": {},
   "source": [
    "A lot of the main codes in pyRaven rely on a dictionary to pass the necessary parameters necessary for computations. This notebook will walk through the creation and features of these dictionaries."
   ]
  },
  {
   "attachments": {},
   "cell_type": "markdown",
   "metadata": {},
   "source": [
    "The parameters class is a dictionary of dictionaries. The outermost layer of the dictionary contains the following keys:\n",
    "* genparam - general parameters used throughout pyRaven calculations\n",
    "* unnoparam - parameters used in unno method for disk integration\n",
    "* weakparam - parameters used in the weak field limit method for disk integration\n",
    "* gridparam - parameters used in loop over all possible Bpole, inclination, phase, and obliquity\n",
    "\n",
    "Not all of these dictionaries are needed for every calculation, for example when using the `weakparam` method the `unnoparam` dictionary is not used. Regardless of if you include the `unnoparam` dictionary or not, the code will not use it. \n",
    "\n",
    "Within each subdictionary there are a set of keys and corresponding values that are actually used by the code. Again, as will the subdictionaries themeselves, if a certain code or method doesn't use any specific parameter then that parameter can either be included or excluded. For example, inside the `genparam` dictionary we have the keys `Bpole`, `incl`, `beta`, and `phase`. These parameters are only used in the loop code and as such have no effect on the other calculations regardless of if they are included or not. The `params.md` file has a break down of the minimum dictionaries and keys needed for a specific calculation. \n",
    "\n",
    "There are three main methods that can be used to create dictionaries for a star:\n",
    "1. You can generate your own param dictionary using our structure\n",
    "2. You can generate your own param dictionary and save it as a `.json`, coping it and making changes as needed\n",
    "3. You can generate a param dictionary from the defaults and change them as needed.\n",
    "\n",
    "The examples used in this notebook are for the weak approximation method or `diskint2 weak` as it is refered to in `params.md`."
   ]
  },
  {
   "attachments": {},
   "cell_type": "markdown",
   "metadata": {},
   "source": [
    "# 1. Generating your own param dictionary\n",
    "\n",
    "The next cell gives an example of how to create a param dictionary using our structure If a sample contains multiple stars, a loop over all stars can be created to make a new param dictionary for each without saving it as a `.json`. "
   ]
  },
  {
   "cell_type": "code",
   "execution_count": 23,
   "metadata": {},
   "outputs": [],
   "source": [
    "#subdictionaries\n",
    "genparam = {\n",
    "    'lambda0':5000,    # the central wavelength of the transition\n",
    "    'vsini':50.0,         # the projected rotational velocity\n",
    "    'vdop':10.0,          # the thermal broadening\n",
    "    'av':0.05,             # the damping coefficient of the Voigt profile\n",
    "    'bnu':1.5,             # the slope of the source function with respect to vertical optical depth\n",
    "    'logkappa':0.98,          # the line strength parameter\n",
    "    'ndop':int(10),       # the number of sample point per doppler width for the wavelength array\n",
    "    'Bpole':1000, #not necessary for loop\n",
    "    'incl':30., #not necessary for loop\n",
    "    'beta':30, #not necessary for loop\n",
    "    'phase':90. #not necessary for loop\n",
    "  }\n",
    "\n",
    "weakparam = {\n",
    "        'geff':1.0 \n",
    "    }\n",
    "\n",
    "# The actual dictionary\n",
    "param={'general' : genparam,\n",
    "       'weak' : weakparam,\n",
    "       }"
   ]
  },
  {
   "attachments": {},
   "cell_type": "markdown",
   "metadata": {},
   "source": [
    "This dictionaries can then be passed directly into the pyRaven code, as is done in the next cell."
   ]
  },
  {
   "cell_type": "code",
   "execution_count": 24,
   "metadata": {},
   "outputs": [
    {
     "data": {
      "text/plain": [
       "array([(-2.66851226e+10, -160., -16. , 0.99979752, 0.),\n",
       "       (-2.65183406e+10, -159., -15.9, 0.99979036, 0.),\n",
       "       (-2.63515585e+10, -158., -15.8, 0.99978308, 0.),\n",
       "       (-2.61847765e+10, -157., -15.7, 0.99977568, 0.),\n",
       "       (-2.60179944e+10, -156., -15.6, 0.99976816, 0.),\n",
       "       (-2.58512124e+10, -155., -15.5, 0.99976053, 0.),\n",
       "       (-2.56844303e+10, -154., -15.4, 0.99975277, 0.),\n",
       "       (-2.55176483e+10, -153., -15.3, 0.99974489, 0.),\n",
       "       (-2.53508662e+10, -152., -15.2, 0.99973689, 0.),\n",
       "       (-2.51840842e+10, -151., -15.1, 0.99972876, 0.),\n",
       "       (-2.50173021e+10, -150., -15. , 0.99972051, 0.),\n",
       "       (-2.48505201e+10, -149., -14.9, 0.99971214, 0.),\n",
       "       (-2.46837380e+10, -148., -14.8, 0.99970364, 0.),\n",
       "       (-2.45169560e+10, -147., -14.7, 0.99969501, 0.),\n",
       "       (-2.43501739e+10, -146., -14.6, 0.99968624, 0.),\n",
       "       (-2.41833919e+10, -145., -14.5, 0.99967735, 0.),\n",
       "       (-2.40166099e+10, -144., -14.4, 0.99966832, 0.),\n",
       "       (-2.38498278e+10, -143., -14.3, 0.99965916, 0.),\n",
       "       (-2.36830458e+10, -142., -14.2, 0.99964986, 0.),\n",
       "       (-2.35162637e+10, -141., -14.1, 0.99964042, 0.),\n",
       "       (-2.33494817e+10, -140., -14. , 0.99963083, 0.),\n",
       "       (-2.31826996e+10, -139., -13.9, 0.9996211 , 0.),\n",
       "       (-2.30159176e+10, -138., -13.8, 0.99961122, 0.),\n",
       "       (-2.28491355e+10, -137., -13.7, 0.99960119, 0.),\n",
       "       (-2.26823535e+10, -136., -13.6, 0.999591  , 0.),\n",
       "       (-2.25155714e+10, -135., -13.5, 0.99958066, 0.),\n",
       "       (-2.23487894e+10, -134., -13.4, 0.99957015, 0.),\n",
       "       (-2.21820073e+10, -133., -13.3, 0.99955948, 0.),\n",
       "       (-2.20152253e+10, -132., -13.2, 0.99954864, 0.),\n",
       "       (-2.18484432e+10, -131., -13.1, 0.99953762, 0.),\n",
       "       (-2.16816612e+10, -130., -13. , 0.99952643, 0.),\n",
       "       (-2.15148791e+10, -129., -12.9, 0.99951505, 0.),\n",
       "       (-2.13480971e+10, -128., -12.8, 0.99950348, 0.),\n",
       "       (-2.11813150e+10, -127., -12.7, 0.99949171, 0.),\n",
       "       (-2.10145330e+10, -126., -12.6, 0.99947975, 0.),\n",
       "       (-2.08477509e+10, -125., -12.5, 0.99946757, 0.),\n",
       "       (-2.06809689e+10, -124., -12.4, 0.99945519, 0.),\n",
       "       (-2.05141869e+10, -123., -12.3, 0.99944258, 0.),\n",
       "       (-2.03474048e+10, -122., -12.2, 0.99942974, 0.),\n",
       "       (-2.01806228e+10, -121., -12.1, 0.99941667, 0.),\n",
       "       (-2.00138407e+10, -120., -12. , 0.99940335, 0.),\n",
       "       (-1.98470587e+10, -119., -11.9, 0.99938978, 0.),\n",
       "       (-1.96802766e+10, -118., -11.8, 0.99937595, 0.),\n",
       "       (-1.95134946e+10, -117., -11.7, 0.99936185, 0.),\n",
       "       (-1.93467125e+10, -116., -11.6, 0.99934747, 0.),\n",
       "       (-1.91799305e+10, -115., -11.5, 0.99933281, 0.),\n",
       "       (-1.90131484e+10, -114., -11.4, 0.99931785, 0.),\n",
       "       (-1.88463664e+10, -113., -11.3, 0.9993026 , 0.),\n",
       "       (-1.86795843e+10, -112., -11.2, 0.99928704, 0.),\n",
       "       (-1.85128023e+10, -111., -11.1, 0.99927122, 0.),\n",
       "       (-1.83460202e+10, -110., -11. , 0.99925531, 0.),\n",
       "       (-1.81792382e+10, -109., -10.9, 0.99923885, 0.),\n",
       "       (-1.80124561e+10, -108., -10.8, 0.99922179, 0.),\n",
       "       (-1.78456741e+10, -107., -10.7, 0.99920412, 0.),\n",
       "       (-1.76788920e+10, -106., -10.6, 0.99918579, 0.),\n",
       "       (-1.75121100e+10, -105., -10.5, 0.99916677, 0.),\n",
       "       (-1.73453280e+10, -104., -10.4, 0.99914703, 0.),\n",
       "       (-1.71785459e+10, -103., -10.3, 0.99912652, 0.),\n",
       "       (-1.70117639e+10, -102., -10.2, 0.9991052 , 0.),\n",
       "       (-1.68449818e+10, -101., -10.1, 0.99908302, 0.),\n",
       "       (-1.66781998e+10, -100., -10. , 0.99905994, 0.),\n",
       "       (-1.65114177e+10,  -99.,  -9.9, 0.99903589, 0.),\n",
       "       (-1.63446357e+10,  -98.,  -9.8, 0.99901082, 0.),\n",
       "       (-1.61778536e+10,  -97.,  -9.7, 0.99898467, 0.),\n",
       "       (-1.60110716e+10,  -96.,  -9.6, 0.99895737, 0.),\n",
       "       (-1.58442895e+10,  -95.,  -9.5, 0.99892884, 0.),\n",
       "       (-1.56775075e+10,  -94.,  -9.4, 0.99889899, 0.),\n",
       "       (-1.55107254e+10,  -93.,  -9.3, 0.99886774, 0.),\n",
       "       (-1.53439434e+10,  -92.,  -9.2, 0.99883499, 0.),\n",
       "       (-1.51771613e+10,  -91.,  -9.1, 0.99880063, 0.),\n",
       "       (-1.50103793e+10,  -90.,  -9. , 0.99876453, 0.),\n",
       "       (-1.48435972e+10,  -89.,  -8.9, 0.99872657, 0.),\n",
       "       (-1.46768152e+10,  -88.,  -8.8, 0.99868659, 0.),\n",
       "       (-1.45100331e+10,  -87.,  -8.7, 0.99864443, 0.),\n",
       "       (-1.43432511e+10,  -86.,  -8.6, 0.99859989, 0.),\n",
       "       (-1.41764690e+10,  -85.,  -8.5, 0.99855278, 0.),\n",
       "       (-1.40096870e+10,  -84.,  -8.4, 0.99850283, 0.),\n",
       "       (-1.38429050e+10,  -83.,  -8.3, 0.99844977, 0.),\n",
       "       (-1.36761229e+10,  -82.,  -8.2, 0.99839325, 0.),\n",
       "       (-1.35093409e+10,  -81.,  -8.1, 0.99833286, 0.),\n",
       "       (-1.33425588e+10,  -80.,  -8. , 0.99826809, 0.),\n",
       "       (-1.31757768e+10,  -79.,  -7.9, 0.99819831, 0.),\n",
       "       (-1.30089947e+10,  -78.,  -7.8, 0.99812264, 0.),\n",
       "       (-1.28422127e+10,  -77.,  -7.7, 0.99803997, 0.),\n",
       "       (-1.26754306e+10,  -76.,  -7.6, 0.99794874, 0.),\n",
       "       (-1.25086486e+10,  -75.,  -7.5, 0.99784681, 0.),\n",
       "       (-1.23418665e+10,  -74.,  -7.4, 0.99773119, 0.),\n",
       "       (-1.21750845e+10,  -73.,  -7.3, 0.99759778, 0.),\n",
       "       (-1.20083024e+10,  -72.,  -7.2, 0.99744095, 0.),\n",
       "       (-1.18415204e+10,  -71.,  -7.1, 0.99725315, 0.),\n",
       "       (-1.16747383e+10,  -70.,  -7. , 0.99702449, 0.),\n",
       "       (-1.15079563e+10,  -69.,  -6.9, 0.99674253, 0.),\n",
       "       (-1.13411742e+10,  -68.,  -6.8, 0.99639218, 0.),\n",
       "       (-1.11743922e+10,  -67.,  -6.7, 0.99595608, 0.),\n",
       "       (-1.10076101e+10,  -66.,  -6.6, 0.99541536, 0.),\n",
       "       (-1.08408281e+10,  -65.,  -6.5, 0.99475074, 0.),\n",
       "       (-1.06740460e+10,  -64.,  -6.4, 0.99394384, 0.),\n",
       "       (-1.05072640e+10,  -63.,  -6.3, 0.99297841, 0.),\n",
       "       (-1.03404820e+10,  -62.,  -6.2, 0.99184111, 0.),\n",
       "       (-1.01736999e+10,  -61.,  -6.1, 0.99052199, 0.),\n",
       "       (-1.00069179e+10,  -60.,  -6. , 0.98901449, 0.),\n",
       "       (-9.84013581e+09,  -59.,  -5.9, 0.98731506, 0.),\n",
       "       (-9.67335376e+09,  -58.,  -5.8, 0.98542277, 0.),\n",
       "       (-9.50657171e+09,  -57.,  -5.7, 0.98333879, 0.),\n",
       "       (-9.33978967e+09,  -56.,  -5.6, 0.9810659 , 0.),\n",
       "       (-9.17300762e+09,  -55.,  -5.5, 0.97860815, 0.),\n",
       "       (-9.00622557e+09,  -54.,  -5.4, 0.97597051, 0.),\n",
       "       (-8.83944352e+09,  -53.,  -5.3, 0.97315869, 0.),\n",
       "       (-8.67266148e+09,  -52.,  -5.2, 0.97017894, 0.),\n",
       "       (-8.50587943e+09,  -51.,  -5.1, 0.96703803, 0.),\n",
       "       (-8.33909738e+09,  -50.,  -5. , 0.96374316, 0.),\n",
       "       (-8.17231533e+09,  -49.,  -4.9, 0.96030195, 0.),\n",
       "       (-8.00553328e+09,  -48.,  -4.8, 0.95672252, 0.),\n",
       "       (-7.83875124e+09,  -47.,  -4.7, 0.95301354, 0.),\n",
       "       (-7.67196919e+09,  -46.,  -4.6, 0.94918431, 0.),\n",
       "       (-7.50518714e+09,  -45.,  -4.5, 0.94524493, 0.),\n",
       "       (-7.33840509e+09,  -44.,  -4.4, 0.94120642, 0.),\n",
       "       (-7.17162305e+09,  -43.,  -4.3, 0.93708091, 0.),\n",
       "       (-7.00484100e+09,  -42.,  -4.2, 0.9328819 , 0.),\n",
       "       (-6.83805895e+09,  -41.,  -4.1, 0.92862436, 0.),\n",
       "       (-6.67127690e+09,  -40.,  -4. , 0.924325  , 0.),\n",
       "       (-6.50449486e+09,  -39.,  -3.9, 0.92000225, 0.),\n",
       "       (-6.33771281e+09,  -38.,  -3.8, 0.91567626, 0.),\n",
       "       (-6.17093076e+09,  -37.,  -3.7, 0.91136856, 0.),\n",
       "       (-6.00414871e+09,  -36.,  -3.6, 0.9071015 , 0.),\n",
       "       (-5.83736667e+09,  -35.,  -3.5, 0.90289734, 0.),\n",
       "       (-5.67058462e+09,  -34.,  -3.4, 0.8987771 , 0.),\n",
       "       (-5.50380257e+09,  -33.,  -3.3, 0.89475944, 0.),\n",
       "       (-5.33702052e+09,  -32.,  -3.2, 0.89085964, 0.),\n",
       "       (-5.17023848e+09,  -31.,  -3.1, 0.88708909, 0.),\n",
       "       (-5.00345643e+09,  -30.,  -3. , 0.88345523, 0.),\n",
       "       (-4.83667438e+09,  -29.,  -2.9, 0.87996199, 0.),\n",
       "       (-4.66989233e+09,  -28.,  -2.8, 0.87661055, 0.),\n",
       "       (-4.50311029e+09,  -27.,  -2.7, 0.87340007, 0.),\n",
       "       (-4.33632824e+09,  -26.,  -2.6, 0.8703285 , 0.),\n",
       "       (-4.16954619e+09,  -25.,  -2.5, 0.86739312, 0.),\n",
       "       (-4.00276414e+09,  -24.,  -2.4, 0.86459099, 0.),\n",
       "       (-3.83598209e+09,  -23.,  -2.3, 0.86191918, 0.),\n",
       "       (-3.66920005e+09,  -22.,  -2.2, 0.85937495, 0.),\n",
       "       (-3.50241800e+09,  -21.,  -2.1, 0.85695581, 0.),\n",
       "       (-3.33563595e+09,  -20.,  -2. , 0.85465953, 0.),\n",
       "       (-3.16885390e+09,  -19.,  -1.9, 0.85248414, 0.),\n",
       "       (-3.00207186e+09,  -18.,  -1.8, 0.85042793, 0.),\n",
       "       (-2.83528981e+09,  -17.,  -1.7, 0.84848937, 0.),\n",
       "       (-2.66850776e+09,  -16.,  -1.6, 0.84666714, 0.),\n",
       "       (-2.50172571e+09,  -15.,  -1.5, 0.84496006, 0.),\n",
       "       (-2.33494367e+09,  -14.,  -1.4, 0.84336712, 0.),\n",
       "       (-2.16816162e+09,  -13.,  -1.3, 0.8418874 , 0.),\n",
       "       (-2.00137957e+09,  -12.,  -1.2, 0.8405201 , 0.),\n",
       "       (-1.83459752e+09,  -11.,  -1.1, 0.8392645 , 0.),\n",
       "       (-1.66781548e+09,  -10.,  -1. , 0.83811999, 0.),\n",
       "       (-1.50103343e+09,   -9.,  -0.9, 0.83708602, 0.),\n",
       "       (-1.33425138e+09,   -8.,  -0.8, 0.83616209, 0.),\n",
       "       (-1.16746933e+09,   -7.,  -0.7, 0.83534779, 0.),\n",
       "       (-1.00068729e+09,   -6.,  -0.6, 0.83464277, 0.),\n",
       "       (-8.33905238e+08,   -5.,  -0.5, 0.83404671, 0.),\n",
       "       (-6.67123190e+08,   -4.,  -0.4, 0.83355937, 0.),\n",
       "       (-5.00341143e+08,   -3.,  -0.3, 0.83318053, 0.),\n",
       "       (-3.33559095e+08,   -2.,  -0.2, 0.83291004, 0.),\n",
       "       (-1.66777048e+08,   -1.,  -0.1, 0.8327478 , 0.),\n",
       "       ( 5.00000000e+03,    0.,   0. , 0.83269372, 0.),\n",
       "       ( 1.66787048e+08,    1.,   0.1, 0.8327478 , 0.),\n",
       "       ( 3.33569095e+08,    2.,   0.2, 0.83291004, 0.),\n",
       "       ( 5.00351143e+08,    3.,   0.3, 0.83318053, 0.),\n",
       "       ( 6.67133190e+08,    4.,   0.4, 0.83355937, 0.),\n",
       "       ( 8.33915238e+08,    5.,   0.5, 0.83404671, 0.),\n",
       "       ( 1.00069729e+09,    6.,   0.6, 0.83464277, 0.),\n",
       "       ( 1.16747933e+09,    7.,   0.7, 0.83534779, 0.),\n",
       "       ( 1.33426138e+09,    8.,   0.8, 0.83616209, 0.),\n",
       "       ( 1.50104343e+09,    9.,   0.9, 0.83708602, 0.),\n",
       "       ( 1.66782548e+09,   10.,   1. , 0.83811999, 0.),\n",
       "       ( 1.83460752e+09,   11.,   1.1, 0.8392645 , 0.),\n",
       "       ( 2.00138957e+09,   12.,   1.2, 0.8405201 , 0.),\n",
       "       ( 2.16817162e+09,   13.,   1.3, 0.8418874 , 0.),\n",
       "       ( 2.33495367e+09,   14.,   1.4, 0.84336712, 0.),\n",
       "       ( 2.50173571e+09,   15.,   1.5, 0.84496006, 0.),\n",
       "       ( 2.66851776e+09,   16.,   1.6, 0.84666714, 0.),\n",
       "       ( 2.83529981e+09,   17.,   1.7, 0.84848937, 0.),\n",
       "       ( 3.00208186e+09,   18.,   1.8, 0.85042793, 0.),\n",
       "       ( 3.16886390e+09,   19.,   1.9, 0.85248414, 0.),\n",
       "       ( 3.33564595e+09,   20.,   2. , 0.85465953, 0.),\n",
       "       ( 3.50242800e+09,   21.,   2.1, 0.85695581, 0.),\n",
       "       ( 3.66921005e+09,   22.,   2.2, 0.85937495, 0.),\n",
       "       ( 3.83599209e+09,   23.,   2.3, 0.86191918, 0.),\n",
       "       ( 4.00277414e+09,   24.,   2.4, 0.86459099, 0.),\n",
       "       ( 4.16955619e+09,   25.,   2.5, 0.86739312, 0.),\n",
       "       ( 4.33633824e+09,   26.,   2.6, 0.8703285 , 0.),\n",
       "       ( 4.50312029e+09,   27.,   2.7, 0.87340007, 0.),\n",
       "       ( 4.66990233e+09,   28.,   2.8, 0.87661055, 0.),\n",
       "       ( 4.83668438e+09,   29.,   2.9, 0.87996199, 0.),\n",
       "       ( 5.00346643e+09,   30.,   3. , 0.88345523, 0.),\n",
       "       ( 5.17024848e+09,   31.,   3.1, 0.88708909, 0.),\n",
       "       ( 5.33703052e+09,   32.,   3.2, 0.89085964, 0.),\n",
       "       ( 5.50381257e+09,   33.,   3.3, 0.89475944, 0.),\n",
       "       ( 5.67059462e+09,   34.,   3.4, 0.8987771 , 0.),\n",
       "       ( 5.83737667e+09,   35.,   3.5, 0.90289734, 0.),\n",
       "       ( 6.00415871e+09,   36.,   3.6, 0.9071015 , 0.),\n",
       "       ( 6.17094076e+09,   37.,   3.7, 0.91136856, 0.),\n",
       "       ( 6.33772281e+09,   38.,   3.8, 0.91567626, 0.),\n",
       "       ( 6.50450486e+09,   39.,   3.9, 0.92000225, 0.),\n",
       "       ( 6.67128690e+09,   40.,   4. , 0.924325  , 0.),\n",
       "       ( 6.83806895e+09,   41.,   4.1, 0.92862436, 0.),\n",
       "       ( 7.00485100e+09,   42.,   4.2, 0.9328819 , 0.),\n",
       "       ( 7.17163305e+09,   43.,   4.3, 0.93708091, 0.),\n",
       "       ( 7.33841509e+09,   44.,   4.4, 0.94120642, 0.),\n",
       "       ( 7.50519714e+09,   45.,   4.5, 0.94524493, 0.),\n",
       "       ( 7.67197919e+09,   46.,   4.6, 0.94918431, 0.),\n",
       "       ( 7.83876124e+09,   47.,   4.7, 0.95301354, 0.),\n",
       "       ( 8.00554328e+09,   48.,   4.8, 0.95672252, 0.),\n",
       "       ( 8.17232533e+09,   49.,   4.9, 0.96030195, 0.),\n",
       "       ( 8.33910738e+09,   50.,   5. , 0.96374316, 0.),\n",
       "       ( 8.50588943e+09,   51.,   5.1, 0.96703803, 0.),\n",
       "       ( 8.67267148e+09,   52.,   5.2, 0.97017894, 0.),\n",
       "       ( 8.83945352e+09,   53.,   5.3, 0.97315869, 0.),\n",
       "       ( 9.00623557e+09,   54.,   5.4, 0.97597051, 0.),\n",
       "       ( 9.17301762e+09,   55.,   5.5, 0.97860815, 0.),\n",
       "       ( 9.33979967e+09,   56.,   5.6, 0.9810659 , 0.),\n",
       "       ( 9.50658171e+09,   57.,   5.7, 0.98333879, 0.),\n",
       "       ( 9.67336376e+09,   58.,   5.8, 0.98542277, 0.),\n",
       "       ( 9.84014581e+09,   59.,   5.9, 0.98731506, 0.),\n",
       "       ( 1.00069279e+10,   60.,   6. , 0.98901449, 0.),\n",
       "       ( 1.01737099e+10,   61.,   6.1, 0.99052199, 0.),\n",
       "       ( 1.03404920e+10,   62.,   6.2, 0.99184111, 0.),\n",
       "       ( 1.05072740e+10,   63.,   6.3, 0.99297841, 0.),\n",
       "       ( 1.06740560e+10,   64.,   6.4, 0.99394384, 0.),\n",
       "       ( 1.08408381e+10,   65.,   6.5, 0.99475074, 0.),\n",
       "       ( 1.10076201e+10,   66.,   6.6, 0.99541536, 0.),\n",
       "       ( 1.11744022e+10,   67.,   6.7, 0.99595608, 0.),\n",
       "       ( 1.13411842e+10,   68.,   6.8, 0.99639218, 0.),\n",
       "       ( 1.15079663e+10,   69.,   6.9, 0.99674253, 0.),\n",
       "       ( 1.16747483e+10,   70.,   7. , 0.99702449, 0.),\n",
       "       ( 1.18415304e+10,   71.,   7.1, 0.99725315, 0.),\n",
       "       ( 1.20083124e+10,   72.,   7.2, 0.99744095, 0.),\n",
       "       ( 1.21750945e+10,   73.,   7.3, 0.99759778, 0.),\n",
       "       ( 1.23418765e+10,   74.,   7.4, 0.99773119, 0.),\n",
       "       ( 1.25086586e+10,   75.,   7.5, 0.99784681, 0.),\n",
       "       ( 1.26754406e+10,   76.,   7.6, 0.99794874, 0.),\n",
       "       ( 1.28422227e+10,   77.,   7.7, 0.99803997, 0.),\n",
       "       ( 1.30090047e+10,   78.,   7.8, 0.99812264, 0.),\n",
       "       ( 1.31757868e+10,   79.,   7.9, 0.99819831, 0.),\n",
       "       ( 1.33425688e+10,   80.,   8. , 0.99826809, 0.),\n",
       "       ( 1.35093509e+10,   81.,   8.1, 0.99833286, 0.),\n",
       "       ( 1.36761329e+10,   82.,   8.2, 0.99839325, 0.),\n",
       "       ( 1.38429150e+10,   83.,   8.3, 0.99844977, 0.),\n",
       "       ( 1.40096970e+10,   84.,   8.4, 0.99850283, 0.),\n",
       "       ( 1.41764790e+10,   85.,   8.5, 0.99855278, 0.),\n",
       "       ( 1.43432611e+10,   86.,   8.6, 0.99859989, 0.),\n",
       "       ( 1.45100431e+10,   87.,   8.7, 0.99864443, 0.),\n",
       "       ( 1.46768252e+10,   88.,   8.8, 0.99868659, 0.),\n",
       "       ( 1.48436072e+10,   89.,   8.9, 0.99872657, 0.),\n",
       "       ( 1.50103893e+10,   90.,   9. , 0.99876453, 0.),\n",
       "       ( 1.51771713e+10,   91.,   9.1, 0.99880063, 0.),\n",
       "       ( 1.53439534e+10,   92.,   9.2, 0.99883499, 0.),\n",
       "       ( 1.55107354e+10,   93.,   9.3, 0.99886774, 0.),\n",
       "       ( 1.56775175e+10,   94.,   9.4, 0.99889899, 0.),\n",
       "       ( 1.58442995e+10,   95.,   9.5, 0.99892884, 0.),\n",
       "       ( 1.60110816e+10,   96.,   9.6, 0.99895737, 0.),\n",
       "       ( 1.61778636e+10,   97.,   9.7, 0.99898467, 0.),\n",
       "       ( 1.63446457e+10,   98.,   9.8, 0.99901082, 0.),\n",
       "       ( 1.65114277e+10,   99.,   9.9, 0.99903589, 0.),\n",
       "       ( 1.66782098e+10,  100.,  10. , 0.99905994, 0.),\n",
       "       ( 1.68449918e+10,  101.,  10.1, 0.99908302, 0.),\n",
       "       ( 1.70117739e+10,  102.,  10.2, 0.9991052 , 0.),\n",
       "       ( 1.71785559e+10,  103.,  10.3, 0.99912652, 0.),\n",
       "       ( 1.73453380e+10,  104.,  10.4, 0.99914703, 0.),\n",
       "       ( 1.75121200e+10,  105.,  10.5, 0.99916677, 0.),\n",
       "       ( 1.76789020e+10,  106.,  10.6, 0.99918579, 0.),\n",
       "       ( 1.78456841e+10,  107.,  10.7, 0.99920412, 0.),\n",
       "       ( 1.80124661e+10,  108.,  10.8, 0.99922179, 0.),\n",
       "       ( 1.81792482e+10,  109.,  10.9, 0.99923885, 0.),\n",
       "       ( 1.83460302e+10,  110.,  11. , 0.99925531, 0.),\n",
       "       ( 1.85128123e+10,  111.,  11.1, 0.99927122, 0.),\n",
       "       ( 1.86795943e+10,  112.,  11.2, 0.99928704, 0.),\n",
       "       ( 1.88463764e+10,  113.,  11.3, 0.9993026 , 0.),\n",
       "       ( 1.90131584e+10,  114.,  11.4, 0.99931785, 0.),\n",
       "       ( 1.91799405e+10,  115.,  11.5, 0.99933281, 0.),\n",
       "       ( 1.93467225e+10,  116.,  11.6, 0.99934747, 0.),\n",
       "       ( 1.95135046e+10,  117.,  11.7, 0.99936185, 0.),\n",
       "       ( 1.96802866e+10,  118.,  11.8, 0.99937595, 0.),\n",
       "       ( 1.98470687e+10,  119.,  11.9, 0.99938978, 0.),\n",
       "       ( 2.00138507e+10,  120.,  12. , 0.99940335, 0.),\n",
       "       ( 2.01806328e+10,  121.,  12.1, 0.99941667, 0.),\n",
       "       ( 2.03474148e+10,  122.,  12.2, 0.99942974, 0.),\n",
       "       ( 2.05141969e+10,  123.,  12.3, 0.99944258, 0.),\n",
       "       ( 2.06809789e+10,  124.,  12.4, 0.99945519, 0.),\n",
       "       ( 2.08477609e+10,  125.,  12.5, 0.99946757, 0.),\n",
       "       ( 2.10145430e+10,  126.,  12.6, 0.99947975, 0.),\n",
       "       ( 2.11813250e+10,  127.,  12.7, 0.99949171, 0.),\n",
       "       ( 2.13481071e+10,  128.,  12.8, 0.99950348, 0.),\n",
       "       ( 2.15148891e+10,  129.,  12.9, 0.99951505, 0.),\n",
       "       ( 2.16816712e+10,  130.,  13. , 0.99952643, 0.),\n",
       "       ( 2.18484532e+10,  131.,  13.1, 0.99953762, 0.),\n",
       "       ( 2.20152353e+10,  132.,  13.2, 0.99954864, 0.),\n",
       "       ( 2.21820173e+10,  133.,  13.3, 0.99955948, 0.),\n",
       "       ( 2.23487994e+10,  134.,  13.4, 0.99957015, 0.),\n",
       "       ( 2.25155814e+10,  135.,  13.5, 0.99958066, 0.),\n",
       "       ( 2.26823635e+10,  136.,  13.6, 0.999591  , 0.),\n",
       "       ( 2.28491455e+10,  137.,  13.7, 0.99960119, 0.),\n",
       "       ( 2.30159276e+10,  138.,  13.8, 0.99961122, 0.),\n",
       "       ( 2.31827096e+10,  139.,  13.9, 0.9996211 , 0.),\n",
       "       ( 2.33494917e+10,  140.,  14. , 0.99963083, 0.),\n",
       "       ( 2.35162737e+10,  141.,  14.1, 0.99964042, 0.),\n",
       "       ( 2.36830558e+10,  142.,  14.2, 0.99964986, 0.),\n",
       "       ( 2.38498378e+10,  143.,  14.3, 0.99965916, 0.),\n",
       "       ( 2.40166199e+10,  144.,  14.4, 0.99966832, 0.),\n",
       "       ( 2.41834019e+10,  145.,  14.5, 0.99967735, 0.),\n",
       "       ( 2.43501839e+10,  146.,  14.6, 0.99968624, 0.),\n",
       "       ( 2.45169660e+10,  147.,  14.7, 0.99969501, 0.),\n",
       "       ( 2.46837480e+10,  148.,  14.8, 0.99970364, 0.),\n",
       "       ( 2.48505301e+10,  149.,  14.9, 0.99971214, 0.),\n",
       "       ( 2.50173121e+10,  150.,  15. , 0.99972051, 0.),\n",
       "       ( 2.51840942e+10,  151.,  15.1, 0.99972876, 0.),\n",
       "       ( 2.53508762e+10,  152.,  15.2, 0.99973689, 0.),\n",
       "       ( 2.55176583e+10,  153.,  15.3, 0.99974489, 0.),\n",
       "       ( 2.56844403e+10,  154.,  15.4, 0.99975277, 0.),\n",
       "       ( 2.58512224e+10,  155.,  15.5, 0.99976053, 0.),\n",
       "       ( 2.60180044e+10,  156.,  15.6, 0.99976816, 0.),\n",
       "       ( 2.61847865e+10,  157.,  15.7, 0.99977568, 0.),\n",
       "       ( 2.63515685e+10,  158.,  15.8, 0.99978308, 0.),\n",
       "       ( 2.65183506e+10,  159.,  15.9, 0.99979036, 0.),\n",
       "       ( 2.66851326e+10,  160.,  16. , 0.99979752, 0.)],\n",
       "      dtype=[('wave', '<f8'), ('vel', '<f8'), ('uo', '<f8'), ('flux', '<f8'), ('V', '<f8')])"
      ]
     },
     "execution_count": 24,
     "metadata": {},
     "output_type": "execute_result"
    }
   ],
   "source": [
    "rav.diskint2.analytical(param)\n"
   ]
  },
  {
   "attachments": {},
   "cell_type": "markdown",
   "metadata": {},
   "source": [
    "We can also change individual subdictionaries by passing the subdictionary key and the key of the item we wish to change. For example, if we wanted vsini=40 km/s we could do the following:"
   ]
  },
  {
   "cell_type": "code",
   "execution_count": 26,
   "metadata": {},
   "outputs": [
    {
     "data": {
      "text/plain": [
       "{'general': {'lambda0': 5000,\n",
       "  'vsini': 40,\n",
       "  'vdop': 10.0,\n",
       "  'av': 0.05,\n",
       "  'bnu': 1.5,\n",
       "  'logkappa': 0.98,\n",
       "  'ndop': 10,\n",
       "  'Bpole': 1000,\n",
       "  'incl': 30.0,\n",
       "  'beta': 30,\n",
       "  'phase': 90.0},\n",
       " 'weak': {'geff': 1.0}}"
      ]
     },
     "execution_count": 26,
     "metadata": {},
     "output_type": "execute_result"
    }
   ],
   "source": [
    "param['general']['vsini']=40\n",
    "\n",
    "param"
   ]
  },
  {
   "attachments": {},
   "cell_type": "markdown",
   "metadata": {},
   "source": [
    "# 2. Generating a param dictionary and reading/writing .json's"
   ]
  },
  {
   "attachments": {},
   "cell_type": "markdown",
   "metadata": {},
   "source": [
    "The second method that can be used is to create a single dictionary that can the be saved to a `.json` file and then copying and modifying the file for each star in a sample. The two cells below give an example of writing and reading dictionaries."
   ]
  },
  {
   "cell_type": "code",
   "execution_count": 27,
   "metadata": {},
   "outputs": [],
   "source": [
    "genparam = {\n",
    "    'lambda0':5000,    # the central wavelength of the transition\n",
    "    'vsini':50.0,         # the projected rotational velocity\n",
    "    'vdop':10.0,          # the thermal broadening\n",
    "    'av':0.05,             # the damping coefficient of the Voigt profile\n",
    "    'bnu':1.5,             # the slope of the source function with respect to vertical optical depth\n",
    "    'logkappa':0.98,          # the line strength parameter\n",
    "    'ndop':int(10),       # the number of sample point per doppler width for the wavelength array\n",
    "    'Bpole':1000, #not necessary for loop\n",
    "    'incl':30., #not necessary for loop\n",
    "    'beta':30, #not necessary for loop\n",
    "    'phase':90. #not necessary for loop\n",
    "  }\n",
    "\n",
    "weakparam = {\n",
    "        'geff':1.0 \n",
    "    }\n",
    "\n",
    "# The actual dictionary\n",
    "param={'general' : genparam,\n",
    "       'weak' : weakparam,\n",
    "       }\n",
    "\n",
    "param=rav.params.parameters(param)\n",
    "\n",
    "param.write('ExampleData/params_tutorial.json')"
   ]
  },
  {
   "cell_type": "code",
   "execution_count": 28,
   "metadata": {},
   "outputs": [],
   "source": [
    "param = rav.params.read_parameters('ExampleData/params_tutorial.json')"
   ]
  },
  {
   "attachments": {},
   "cell_type": "markdown",
   "metadata": {},
   "source": [
    "The `pprint` function prints the output dictionary in a nicely formated structure for visualization."
   ]
  },
  {
   "cell_type": "code",
   "execution_count": 29,
   "metadata": {},
   "outputs": [
    {
     "name": "stdout",
     "output_type": "stream",
     "text": [
      "{\n",
      "  \"general\": {\n",
      "    \"Bpole\": 1000,\n",
      "    \"av\": 0.05,\n",
      "    \"beta\": 30,\n",
      "    \"bnu\": 1.5,\n",
      "    \"incl\": 30.0,\n",
      "    \"lambda0\": 5000,\n",
      "    \"logkappa\": 0.98,\n",
      "    \"ndop\": 10,\n",
      "    \"phase\": 90.0,\n",
      "    \"vdop\": 10.0,\n",
      "    \"vsini\": 50.0\n",
      "  },\n",
      "  \"weak\": {\n",
      "    \"geff\": 1.0\n",
      "  }\n",
      "}\n"
     ]
    }
   ],
   "source": [
    "param.pprint()"
   ]
  },
  {
   "attachments": {},
   "cell_type": "markdown",
   "metadata": {},
   "source": [
    "The `parameter` class functions very similarly to python dictionaries. As such, we can change the values of subdictionaries and the values within subdictionaries. For example we can set `vsini` to be 40 with the following code: "
   ]
  },
  {
   "cell_type": "code",
   "execution_count": 30,
   "metadata": {},
   "outputs": [
    {
     "name": "stdout",
     "output_type": "stream",
     "text": [
      "{\n",
      "  \"general\": {\n",
      "    \"Bpole\": 1000,\n",
      "    \"av\": 0.05,\n",
      "    \"beta\": 30,\n",
      "    \"bnu\": 1.5,\n",
      "    \"incl\": 30.0,\n",
      "    \"lambda0\": 5000,\n",
      "    \"logkappa\": 0.98,\n",
      "    \"ndop\": 10,\n",
      "    \"phase\": 90.0,\n",
      "    \"vdop\": 10.0,\n",
      "    \"vsini\": 40\n",
      "  },\n",
      "  \"weak\": {\n",
      "    \"geff\": 1.0\n",
      "  }\n",
      "}\n"
     ]
    }
   ],
   "source": [
    "param['general']['vsini']=40\n",
    "\n",
    "param.pprint()"
   ]
  },
  {
   "attachments": {},
   "cell_type": "markdown",
   "metadata": {},
   "source": [
    "# 3. Generate a param dictionary from the defaults and modifying it as needed\n",
    "\n",
    "pyRaven already has two functions set up to give you a default input param dictionary. We can simply call this function and modifiy it for each star in our sample. This saves you from writing up the entire dictionary in our structure. "
   ]
  },
  {
   "cell_type": "code",
   "execution_count": 35,
   "metadata": {},
   "outputs": [
    {
     "data": {
      "text/plain": [
       "{'general': {'lambda0': 5000,\n",
       "  'vsini': 50.0,\n",
       "  'vdop': 10.0,\n",
       "  'av': 0.05,\n",
       "  'bnu': 1.5,\n",
       "  'logkappa': 0.98,\n",
       "  'ndop': 10,\n",
       "  'Bpole': 1000,\n",
       "  'incl': 90,\n",
       "  'beta': 90,\n",
       "  'phase': 0},\n",
       " 'weak': {'geff': 1.0}}"
      ]
     },
     "execution_count": 35,
     "metadata": {},
     "output_type": "execute_result"
    }
   ],
   "source": [
    "param=rav.params.get_def_param_weak()\n",
    "param"
   ]
  },
  {
   "attachments": {},
   "cell_type": "markdown",
   "metadata": {},
   "source": [
    "If we want to change vsini to 40 we can do:"
   ]
  },
  {
   "cell_type": "code",
   "execution_count": 36,
   "metadata": {},
   "outputs": [
    {
     "data": {
      "text/plain": [
       "{'general': {'lambda0': 5000,\n",
       "  'vsini': 40,\n",
       "  'vdop': 10.0,\n",
       "  'av': 0.05,\n",
       "  'bnu': 1.5,\n",
       "  'logkappa': 0.98,\n",
       "  'ndop': 10,\n",
       "  'Bpole': 1000,\n",
       "  'incl': 90,\n",
       "  'beta': 90,\n",
       "  'phase': 0},\n",
       " 'weak': {'geff': 1.0}}"
      ]
     },
     "execution_count": 36,
     "metadata": {},
     "output_type": "execute_result"
    }
   ],
   "source": [
    "param['general']['vsini']=40\n",
    "\n",
    "param"
   ]
  },
  {
   "attachments": {},
   "cell_type": "markdown",
   "metadata": {},
   "source": [
    "We can also write and read it to and from a `.json` file."
   ]
  },
  {
   "cell_type": "code",
   "execution_count": 37,
   "metadata": {},
   "outputs": [],
   "source": [
    "param.write('ExampleData/params_tutorial.json')"
   ]
  },
  {
   "cell_type": "code",
   "execution_count": 38,
   "metadata": {},
   "outputs": [],
   "source": [
    "param = rav.params.read_parameters('ExampleData/params_tutorial.json')"
   ]
  },
  {
   "cell_type": "code",
   "execution_count": 39,
   "metadata": {},
   "outputs": [
    {
     "data": {
      "text/plain": [
       "{'general': {'Bpole': 1000,\n",
       "  'av': 0.05,\n",
       "  'beta': 90,\n",
       "  'bnu': 1.5,\n",
       "  'incl': 90,\n",
       "  'lambda0': 5000,\n",
       "  'logkappa': 0.98,\n",
       "  'ndop': 10,\n",
       "  'phase': 0,\n",
       "  'vdop': 10.0,\n",
       "  'vsini': 40},\n",
       " 'weak': {'geff': 1.0}}"
      ]
     },
     "execution_count": 39,
     "metadata": {},
     "output_type": "execute_result"
    }
   ],
   "source": [
    "param"
   ]
  },
  {
   "cell_type": "code",
   "execution_count": null,
   "metadata": {},
   "outputs": [],
   "source": []
  }
 ],
 "metadata": {
  "kernelspec": {
   "display_name": "base",
   "language": "python",
   "name": "python3"
  },
  "language_info": {
   "codemirror_mode": {
    "name": "ipython",
    "version": 3
   },
   "file_extension": ".py",
   "mimetype": "text/x-python",
   "name": "python",
   "nbconvert_exporter": "python",
   "pygments_lexer": "ipython3",
   "version": "3.9.7"
  },
  "orig_nbformat": 4
 },
 "nbformat": 4,
 "nbformat_minor": 2
}
