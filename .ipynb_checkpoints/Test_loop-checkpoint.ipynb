{
 "cells": [
  {
   "cell_type": "code",
   "execution_count": 1,
   "id": "7c653704",
   "metadata": {},
   "outputs": [
    {
     "name": "stdout",
     "output_type": "stream",
     "text": [
      "loading specpolFlow package\n",
      "importing specpolFlow.iolsd\n"
     ]
    }
   ],
   "source": [
    "import specpolFlow as pol\n",
    "import numpy as np\n",
    "import matplotlib.pyplot as plt"
   ]
  },
  {
   "cell_type": "code",
   "execution_count": 2,
   "id": "88c6b095",
   "metadata": {},
   "outputs": [],
   "source": [
    "import pyRaven as rav"
   ]
  },
  {
   "cell_type": "code",
   "execution_count": 3,
   "id": "8a4a003e",
   "metadata": {},
   "outputs": [],
   "source": [
    "Packet = rav.data.read_packet('Packet_test.h5')"
   ]
  },
  {
   "cell_type": "code",
   "execution_count": 4,
   "id": "0101808f",
   "metadata": {},
   "outputs": [],
   "source": [
    "genparam = {\n",
    "    'lambda0':5000,    # the central wavelength of the transition\n",
    "    'vsini':50.0,         # the projected rotational velocity\n",
    "    'vdop':10.0,          # the thermal broadening\n",
    "    'av':0.05,             # the damping coefficient of the Voigt profile\n",
    "    'bnu':1.5,             # the slope of the source function with respect to vertical optical depth\n",
    "    'logkappa':10**0.98,          # the line strength parameter\n",
    "    'ndop':int(100),       # the number of sample point per doppler width for the wavelength array\n",
    "  }\n",
    "\n",
    "weakparam = {\n",
    "        'geff':1.0\n",
    "    }\n",
    "\n",
    "gridparam = {\n",
    "        'Bgrid': np.array([1000, 2000]),\n",
    "        'igrid': np.array([30]),\n",
    "        'betagrid':np.array([30]),\n",
    "        'phasegrid':np.array([45])\n",
    "        }\n",
    "    \n",
    "param={'general' : genparam,\n",
    "       'weak' : weakparam,\n",
    "       'grid' : gridparam,\n",
    "       }"
   ]
  },
  {
   "cell_type": "code",
   "execution_count": 5,
   "id": "a1349df1",
   "metadata": {},
   "outputs": [
    {
     "name": "stdout",
     "output_type": "stream",
     "text": [
      "Max velocity needed: 20.0 vdop\n"
     ]
    },
    {
     "data": {
      "image/png": "[encoded data removed]",
      "text/plain": [
       "<Figure size 432x288 with 1 Axes>"
      ]
     },
     "metadata": {
      "needs_background": "light"
     },
     "output_type": "display_data"
    }
   ],
   "source": [
    "fig, ax = plt.subplots(1,1)\n",
    "\n",
    "rav.loop.loop(param, Packet, ax)\n"
   ]
  },
  {
   "cell_type": "code",
   "execution_count": null,
   "id": "1662d782",
   "metadata": {},
   "outputs": [],
   "source": []
  },
  {
   "cell_type": "code",
   "execution_count": null,
   "id": "4c418d71",
   "metadata": {},
   "outputs": [],
   "source": []
  }
 ],
 "metadata": {
  "kernelspec": {
   "display_name": "Python 3",
   "language": "python",
   "name": "python3"
  },
  "language_info": {
   "codemirror_mode": {
    "name": "ipython",
    "version": 3
   },
   "file_extension": ".py",
   "mimetype": "text/x-python",
   "name": "python",
   "nbconvert_exporter": "python",
   "pygments_lexer": "ipython3",
   "version": "3.8.8"
  }
 },
 "nbformat": 4,
 "nbformat_minor": 5
}
